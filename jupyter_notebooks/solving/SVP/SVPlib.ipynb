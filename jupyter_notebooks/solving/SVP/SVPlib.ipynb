{
 "cells": [
  {
   "cell_type": "code",
   "execution_count": 1,
   "id": "6a626072",
   "metadata": {},
   "outputs": [],
   "source": [
    "import matplotlib.pyplot as plt\n",
    "import numpy as np\n",
    "\n",
    "from fpylll import *"
   ]
  },
  {
   "cell_type": "code",
   "execution_count": null,
   "id": "89d18d50",
   "metadata": {},
   "outputs": [],
   "source": []
  },
  {
   "cell_type": "code",
   "execution_count": 2,
   "id": "26c16073",
   "metadata": {},
   "outputs": [
    {
     "name": "stdout",
     "output_type": "stream",
     "text": [
      "[ 1 1 ]\n",
      "[ 3 1 ]\n"
     ]
    }
   ],
   "source": [
    "FPLLL.set_random_seed(42)\n",
    "\n",
    "(n, m) = (2, 2)\n",
    "A = IntegerMatrix(m, n)\n",
    "A.randomize(\"uniform\", bits=2)\n",
    "print(A)"
   ]
  },
  {
   "cell_type": "markdown",
   "id": "369db476",
   "metadata": {},
   "source": [
    "## gram schmidt"
   ]
  },
  {
   "cell_type": "code",
   "execution_count": 3,
   "id": "6581eeb4",
   "metadata": {},
   "outputs": [
    {
     "name": "stdout",
     "output_type": "stream",
     "text": [
      "True\n",
      "2.0\n",
      "[ 2  0 ]\n",
      "[ 4 10 ]\n"
     ]
    }
   ],
   "source": [
    "M = GSO.Mat(A, flags=GSO.INT_GRAM); _ = M.update_gso()\n",
    "print(M.int_gram_enabled)\n",
    "print(M.get_mu(1,0))\n",
    "print(M.G)"
   ]
  },
  {
   "cell_type": "code",
   "execution_count": 4,
   "id": "d6b711da",
   "metadata": {},
   "outputs": [
    {
     "name": "stdout",
     "output_type": "stream",
     "text": [
      "[[ 1.  1.]\n",
      " [ 1. -1.]]\n"
     ]
    }
   ],
   "source": [
    "O = np.zeros((m,n))\n",
    "\n",
    "for i in range(2):\n",
    "    O[i] = A[i]\n",
    "    for j in range(2):\n",
    "        #print((i,j))\n",
    "        #print(M.get_mu(i,j))\n",
    "        #print()\n",
    "        O[i] = O[i] - M.get_mu(i,j)\n",
    "        \n",
    "print(O)"
   ]
  },
  {
   "cell_type": "code",
   "execution_count": 5,
   "id": "8d11d9c9",
   "metadata": {},
   "outputs": [
    {
     "data": {
      "image/png": "[encoded data removed]",
      "text/plain": [
       "<Figure size 576x576 with 1 Axes>"
      ]
     },
     "metadata": {
      "needs_background": "light"
     },
     "output_type": "display_data"
    }
   ],
   "source": [
    "numpyA = np.array([elt for elt in A])\n",
    "\n",
    "fig = plt.figure(figsize=(8,8))\n",
    "V = numpyA\n",
    "origin = np.array([[0, 0],[0, 0]]) # origin point\n",
    "plt.quiver(*origin, V[:,0], V[:,1], color=['b','b'], angles='xy', scale_units='xy', scale=1)\n",
    "\n",
    "V = O\n",
    "origin = np.array([[0, 0],[0, 0]]) # origin point\n",
    "plt.quiver(*origin, V[:,0], V[:,1], color=['g','g'], angles='xy', scale_units='xy', scale=1)\n",
    "\n",
    "plt.xticks(range(-1, 10))\n",
    "plt.yticks(range(-1, 10))\n",
    "plt.grid()\n",
    "plt.show()"
   ]
  },
  {
   "cell_type": "code",
   "execution_count": null,
   "id": "ef8c39c6",
   "metadata": {},
   "outputs": [],
   "source": []
  },
  {
   "cell_type": "markdown",
   "id": "f9877b2d",
   "metadata": {},
   "source": [
    "## LLL"
   ]
  },
  {
   "cell_type": "code",
   "execution_count": 6,
   "id": "87a27d85",
   "metadata": {},
   "outputs": [
    {
     "data": {
      "text/plain": [
       "False"
      ]
     },
     "execution_count": 6,
     "metadata": {},
     "output_type": "execute_result"
    }
   ],
   "source": [
    "LLL.is_reduced(A)"
   ]
  },
  {
   "cell_type": "code",
   "execution_count": 7,
   "id": "382a453f",
   "metadata": {},
   "outputs": [
    {
     "name": "stdout",
     "output_type": "stream",
     "text": [
      "[ 1  1 ]\n",
      "[ 1 -1 ]\n"
     ]
    }
   ],
   "source": [
    "W = LLL.Wrapper(A)\n",
    "W()\n",
    "LLL.is_reduced(A)\n",
    "print(A)"
   ]
  },
  {
   "cell_type": "code",
   "execution_count": 8,
   "id": "d7fd7ffc",
   "metadata": {},
   "outputs": [
    {
     "data": {
      "image/png": "[encoded data removed]",
      "text/plain": [
       "<Figure size 576x576 with 1 Axes>"
      ]
     },
     "metadata": {
      "needs_background": "light"
     },
     "output_type": "display_data"
    }
   ],
   "source": [
    "numpyA = np.array([elt for elt in A])\n",
    "\n",
    "fig = plt.figure(figsize=(8,8))\n",
    "V = numpyA\n",
    "origin = np.array([[0, 0],[0, 0]]) # origin point\n",
    "plt.quiver(*origin, V[:,0], V[:,1], color=['b','b'], angles='xy', scale_units='xy', scale=1)\n",
    "\n",
    "plt.xticks(range(-1, 10))\n",
    "plt.yticks(range(-1, 10))\n",
    "plt.grid()\n",
    "plt.show()"
   ]
  },
  {
   "cell_type": "code",
   "execution_count": null,
   "id": "a100733b",
   "metadata": {},
   "outputs": [],
   "source": []
  },
  {
   "cell_type": "markdown",
   "id": "bbf8f7ab",
   "metadata": {},
   "source": [
    "## Enumeration"
   ]
  },
  {
   "cell_type": "code",
   "execution_count": 9,
   "id": "32d1beb8",
   "metadata": {},
   "outputs": [
    {
     "name": "stdout",
     "output_type": "stream",
     "text": [
      "[2.0, array([1., 1.])]\n"
     ]
    },
    {
     "data": {
      "text/plain": [
       "[]"
      ]
     },
     "execution_count": 9,
     "metadata": {},
     "output_type": "execute_result"
    }
   ],
   "source": [
    "A = IntegerMatrix.from_matrix([[3, 1],[4,2]])\n",
    "A.randomize(\"uniform\", bits=2)\n",
    "\n",
    "FPLLL.set_random_seed(42)\n",
    "_ = FPLLL.set_threads(1)\n",
    "A = IntegerMatrix(2, 2)\n",
    "A.randomize(\"uniform\", bits=3)\n",
    "_ = LLL.reduction(A)\n",
    "M = GSO.Mat(A)\n",
    "_ = M.update_gso()\n",
    "pruning = Pruning.run(M.get_r(0, 0), 2**40, M.r()[:30], 0.8)\n",
    "enum = Enumeration(M, nr_solutions=1, strategy=EvaluatorStrategy.BEST_N_SOLUTIONS, sub_solutions=True)\n",
    "#enum = Enumeration(M, strategy=EvaluatorStrategy.FIRST_N_SOLUTIONS, sub_solutions=True)\n",
    "enum.enumerate(first=0, last=2, max_dist=0.999*M.get_r(0, 0), max_dist_expo=2, target=None, subtree=None, pruning=None, dual=False, subtree_reset=False)\n",
    "#solutions = enum.enumerate(0, 2, 0.999*M.get_r(0, 0), 0)#, pruning=pruning.coefficients)\n",
    "[(length, coefVec)] = enum.enumerate(first=0, last=2, max_dist=0.999*M.get_r(0, 0), max_dist_expo=1, target=None, subtree=None, pruning=None, dual=False, subtree_reset=False)#, pruning=pruning.coefficients)\n",
    "print([length, coefVec[0]*np.array(A[0]) + coefVec[1]*np.array(A[1])])\n",
    "\n",
    "[(int(round(a)), b) for a,b in enum.sub_solutions]"
   ]
  },
  {
   "cell_type": "code",
   "execution_count": 10,
   "id": "2643db37",
   "metadata": {},
   "outputs": [
    {
     "data": {
      "text/plain": [
       "array([1., 1.])"
      ]
     },
     "execution_count": 10,
     "metadata": {},
     "output_type": "execute_result"
    }
   ],
   "source": [
    "shortestVector = np.array([0.]*2)\n",
    "for i in range(len(coefVec)):\n",
    "    shortestVector += coefVec[i]*np.array(A[i])\n",
    "    \n",
    "shortestVector"
   ]
  },
  {
   "cell_type": "code",
   "execution_count": null,
   "id": "1a64167c",
   "metadata": {},
   "outputs": [],
   "source": []
  },
  {
   "cell_type": "code",
   "execution_count": 11,
   "id": "aea7012d",
   "metadata": {},
   "outputs": [
    {
     "name": "stdout",
     "output_type": "stream",
     "text": [
      "[ 1 1 ]\n",
      "[ 7 1 ]\n",
      "False\n",
      "\n",
      "[ 1  1 ]\n",
      "[ 3 -3 ]\n",
      "True\n",
      "\n",
      "\n",
      "(1, 1)\n",
      "1.4142135623730951\n",
      "(3, -3)\n",
      "4.242640687119285\n"
     ]
    }
   ],
   "source": [
    "FPLLL.set_random_seed(42)\n",
    "_ = FPLLL.set_threads(1)\n",
    "A = IntegerMatrix(2, 2)\n",
    "A.randomize(\"uniform\", bits=3)\n",
    "\n",
    "print(A)\n",
    "print(LLL.is_reduced(A))\n",
    "print()\n",
    "LLL.reduction(A)\n",
    "print(A)\n",
    "print(LLL.is_reduced(A))\n",
    "print()\n",
    "print()\n",
    "\n",
    "for elt in A:\n",
    "    print(elt)\n",
    "    print(np.linalg.norm(elt, ord=2))"
   ]
  },
  {
   "cell_type": "code",
   "execution_count": 12,
   "id": "84485cf9",
   "metadata": {},
   "outputs": [
    {
     "data": {
      "text/plain": [
       "2"
      ]
     },
     "execution_count": 12,
     "metadata": {},
     "output_type": "execute_result"
    }
   ],
   "source": [
    "enum.get_nodes()"
   ]
  },
  {
   "cell_type": "code",
   "execution_count": 13,
   "id": "3d47a4fd",
   "metadata": {},
   "outputs": [
    {
     "name": "stdout",
     "output_type": "stream",
     "text": [
      "Help on class Enumeration in module fpylll.fplll.enumeration:\n",
      "\n",
      "class Enumeration(builtins.object)\n",
      " |  Methods defined here:\n",
      " |  \n",
      " |  __reduce__ = __reduce_cython__(...)\n",
      " |      Enumeration.__reduce_cython__(self)\n",
      " |  \n",
      " |  __setstate__ = __setstate_cython__(...)\n",
      " |      Enumeration.__setstate_cython__(self, __pyx_state)\n",
      " |  \n",
      " |  enumerate(self, first, last, max_dist, max_dist_expo, target, subtree, pruning, dual, subtree_reset)\n",
      " |      Enumeration.enumerate(self, int first, int last, max_dist, max_dist_expo, target=None, subtree=None, pruning=None, dual=False, subtree_reset=False)\n",
      " |      Run enumeration on `M`\n",
      " |      \n",
      " |              :param int first:      first row\n",
      " |              :param int last:       last row (exclusive)\n",
      " |              :param max_dist:       length bound\n",
      " |              :param max_dist_expo:  exponent of length bound\n",
      " |              :param target:         target coordinates for CVP/BDD or ``None`` for SVP\n",
      " |              :param subtree:\n",
      " |              :param pruning:        pruning parameters\n",
      " |              :param dual:           run enumeration in the primal or dual lattice.\n",
      " |              :param subtree_reset:\n",
      " |              :returns: list of pairs containing the solutions' coefficient vectors and their lengths\n",
      " |  \n",
      " |  get_nodes(self, level)\n",
      " |      Enumeration.get_nodes(self, level=None)\n",
      " |      \n",
      " |      Return number of visited nodes in last enumeration call.\n",
      " |      \n",
      " |      :param level: return for ``level`` except when ``None`` in which case the sum is returned.\n",
      " |  \n",
      " |  ----------------------------------------------------------------------\n",
      " |  Static methods defined here:\n",
      " |  \n",
      " |  __new__(*args, **kwargs) from builtins.type\n",
      " |      Create and return a new object.  See help(type) for accurate signature.\n",
      " |  \n",
      " |  ----------------------------------------------------------------------\n",
      " |  Data descriptors defined here:\n",
      " |  \n",
      " |  M\n",
      " |  \n",
      " |  sub_solutions\n",
      " |      Return sub-solutions computed in last enumeration call.\n",
      " |      \n",
      " |      >>> from fpylll import *\n",
      " |      >>> FPLLL.set_random_seed(1337)\n",
      " |      >>> _ = FPLLL.set_threads(1)\n",
      " |      >>> A = IntegerMatrix.random(80, \"qary\", bits=30, k=40)\n",
      " |      >>> _ = LLL.reduction(A)\n",
      " |      >>> M = GSO.Mat(A)\n",
      " |      >>> _ = M.update_gso()\n",
      " |      >>> pruning = Pruning.run(M.get_r(0, 0), 2**40, M.r()[:30], 0.8)\n",
      " |      >>> enum = Enumeration(M, strategy=EvaluatorStrategy.BEST_N_SOLUTIONS, sub_solutions=True)\n",
      " |      >>> _ = enum.enumerate(0, 30, 0.999*M.get_r(0, 0), 0, pruning=pruning.coefficients)\n",
      " |      >>> [int(round(a)) for a,b in enum.sub_solutions[:5]]\n",
      " |      [5569754193, 5556022462, 5083806188, 5022873440, 4260865083]\n",
      "\n"
     ]
    }
   ],
   "source": [
    "help(Enumeration)"
   ]
  },
  {
   "cell_type": "code",
   "execution_count": null,
   "id": "1b247b74",
   "metadata": {},
   "outputs": [],
   "source": []
  },
  {
   "cell_type": "code",
   "execution_count": null,
   "id": "dd7bd353",
   "metadata": {},
   "outputs": [],
   "source": []
  }
 ],
 "metadata": {
  "kernelspec": {
   "display_name": "Python 3",
   "language": "python",
   "name": "python3"
  },
  "language_info": {
   "codemirror_mode": {
    "name": "ipython",
    "version": 3
   },
   "file_extension": ".py",
   "mimetype": "text/x-python",
   "name": "python",
   "nbconvert_exporter": "python",
   "pygments_lexer": "ipython3",
   "version": "3.8.12"
  }
 },
 "nbformat": 4,
 "nbformat_minor": 5
}
