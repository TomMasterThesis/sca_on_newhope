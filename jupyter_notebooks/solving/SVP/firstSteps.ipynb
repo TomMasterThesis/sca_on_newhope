{
 "cells": [
  {
   "cell_type": "code",
   "execution_count": 1,
   "id": "dc8d4336",
   "metadata": {},
   "outputs": [],
   "source": [
    "from fpylll import *\n",
    "import fpylll"
   ]
  },
  {
   "cell_type": "code",
   "execution_count": 2,
   "id": "a08e5f39",
   "metadata": {},
   "outputs": [
    {
     "name": "stdout",
     "output_type": "stream",
     "text": [
      "Help on package fpylll:\n",
      "\n",
      "NAME\n",
      "    fpylll - # flake8: noqa\n",
      "\n",
      "PACKAGE CONTENTS\n",
      "    algorithms (package)\n",
      "    config\n",
      "    fplll (package)\n",
      "    gmp (package)\n",
      "    io\n",
      "    numpy\n",
      "    tools (package)\n",
      "    util\n",
      "\n",
      "DATA\n",
      "    absolute_import = _Feature((2, 5, 0, 'alpha', 1), (3, 0, 0, 'alpha', 0...\n",
      "\n",
      "VERSION\n",
      "    0.5.6\n",
      "\n",
      "FILE\n",
      "    /home/richardprime/anaconda3/envs/fpylll/lib/python3.8/site-packages/fpylll/__init__.py\n",
      "\n",
      "\n"
     ]
    }
   ],
   "source": [
    "help(fpylll)"
   ]
  },
  {
   "cell_type": "code",
   "execution_count": 3,
   "id": "a57a9df4",
   "metadata": {},
   "outputs": [
    {
     "name": "stdout",
     "output_type": "stream",
     "text": [
      "Help on package fpylll.algorithms in fpylll:\n",
      "\n",
      "NAME\n",
      "    fpylll.algorithms\n",
      "\n",
      "PACKAGE CONTENTS\n",
      "    bkz\n",
      "    bkz2\n",
      "    simple_bkz\n",
      "    simple_dbkz\n",
      "\n",
      "FILE\n",
      "    /home/richardprime/anaconda3/envs/fpylll/lib/python3.8/site-packages/fpylll/algorithms/__init__.py\n",
      "\n",
      "\n",
      "Help on package fpylll.fplll in fpylll:\n",
      "\n",
      "NAME\n",
      "    fpylll.fplll\n",
      "\n",
      "PACKAGE CONTENTS\n",
      "    bkz\n",
      "    bkz_param\n",
      "    enumeration\n",
      "    gso\n",
      "    integer_matrix\n",
      "    lll\n",
      "    pruner\n",
      "    svpcvp\n",
      "    wrapper\n",
      "\n",
      "FILE\n",
      "    /home/richardprime/anaconda3/envs/fpylll/lib/python3.8/site-packages/fpylll/fplll/__init__.py\n",
      "\n",
      "\n",
      "Help on package fpylll.tools in fpylll:\n",
      "\n",
      "NAME\n",
      "    fpylll.tools\n",
      "\n",
      "PACKAGE CONTENTS\n",
      "    benchmark\n",
      "    bkz_plot\n",
      "    bkz_simulator\n",
      "    bkz_stats\n",
      "    compare\n",
      "    quality\n",
      "\n",
      "FILE\n",
      "    /home/richardprime/anaconda3/envs/fpylll/lib/python3.8/site-packages/fpylll/tools/__init__.py\n",
      "\n",
      "\n"
     ]
    }
   ],
   "source": [
    "help(fpylll.algorithms)\n",
    "help(fpylll.fplll)\n",
    "help(fpylll.tools)"
   ]
  },
  {
   "cell_type": "code",
   "execution_count": null,
   "id": "033b4e99",
   "metadata": {},
   "outputs": [],
   "source": []
  },
  {
   "cell_type": "code",
   "execution_count": 10,
   "id": "69695461",
   "metadata": {},
   "outputs": [
    {
     "name": "stdout",
     "output_type": "stream",
     "text": [
      "[ 0 0 0 0 0 0 0 0 0 0 ]\n",
      "[ 0 0 0 0 0 0 0 0 0 0 ]\n",
      "[ 0 0 0 0 0 0 0 0 0 0 ]\n",
      "[ 0 0 0 0 0 0 0 0 0 0 ]\n",
      "[ 0 0 0 0 0 0 0 0 0 0 ]\n",
      "[ 0 0 0 0 0 0 0 0 0 0 ]\n",
      "[ 0 0 0 0 0 0 0 0 0 0 ]\n",
      "[ 0 0 0 0 0 0 0 0 0 0 ]\n",
      "[ 0 0 0 0 0 0 0 0 0 0 ]\n",
      "[ 0 0 0 0 0 0 0 0 0 0 ]\n"
     ]
    }
   ],
   "source": [
    "A = IntegerMatrix(10, 10)\n",
    "print(A)"
   ]
  },
  {
   "cell_type": "code",
   "execution_count": 4,
   "id": "e54afeb3",
   "metadata": {},
   "outputs": [
    {
     "name": "stdout",
     "output_type": "stream",
     "text": [
      "[ 1 0 0 0 0 0 0 0 0 0 0 0 0 0 0 0 0 0 0 0 0 0 0 0 0   9 116  75  47  67  72  97  59 125  99   9  11  79  54  85  54 126 117  47  85  84  78  21 103  59 ]\n",
      "[ 0 1 0 0 0 0 0 0 0 0 0 0 0 0 0 0 0 0 0 0 0 0 0 0 0  59   9 116  75  47  67  72  97  59 125  99   9  11  79  54  85  54 126 117  47  85  84  78  21 103 ]\n",
      "[ 0 0 1 0 0 0 0 0 0 0 0 0 0 0 0 0 0 0 0 0 0 0 0 0 0 103  59   9 116  75  47  67  72  97  59 125  99   9  11  79  54  85  54 126 117  47  85  84  78  21 ]\n",
      "[ 0 0 0 1 0 0 0 0 0 0 0 0 0 0 0 0 0 0 0 0 0 0 0 0 0  21 103  59   9 116  75  47  67  72  97  59 125  99   9  11  79  54  85  54 126 117  47  85  84  78 ]\n",
      "[ 0 0 0 0 1 0 0 0 0 0 0 0 0 0 0 0 0 0 0 0 0 0 0 0 0  78  21 103  59   9 116  75  47  67  72  97  59 125  99   9  11  79  54  85  54 126 117  47  85  84 ]\n",
      "[ 0 0 0 0 0 1 0 0 0 0 0 0 0 0 0 0 0 0 0 0 0 0 0 0 0  84  78  21 103  59   9 116  75  47  67  72  97  59 125  99   9  11  79  54  85  54 126 117  47  85 ]\n",
      "[ 0 0 0 0 0 0 1 0 0 0 0 0 0 0 0 0 0 0 0 0 0 0 0 0 0  85  84  78  21 103  59   9 116  75  47  67  72  97  59 125  99   9  11  79  54  85  54 126 117  47 ]\n",
      "[ 0 0 0 0 0 0 0 1 0 0 0 0 0 0 0 0 0 0 0 0 0 0 0 0 0  47  85  84  78  21 103  59   9 116  75  47  67  72  97  59 125  99   9  11  79  54  85  54 126 117 ]\n",
      "[ 0 0 0 0 0 0 0 0 1 0 0 0 0 0 0 0 0 0 0 0 0 0 0 0 0 117  47  85  84  78  21 103  59   9 116  75  47  67  72  97  59 125  99   9  11  79  54  85  54 126 ]\n",
      "[ 0 0 0 0 0 0 0 0 0 1 0 0 0 0 0 0 0 0 0 0 0 0 0 0 0 126 117  47  85  84  78  21 103  59   9 116  75  47  67  72  97  59 125  99   9  11  79  54  85  54 ]\n",
      "[ 0 0 0 0 0 0 0 0 0 0 1 0 0 0 0 0 0 0 0 0 0 0 0 0 0  54 126 117  47  85  84  78  21 103  59   9 116  75  47  67  72  97  59 125  99   9  11  79  54  85 ]\n",
      "[ 0 0 0 0 0 0 0 0 0 0 0 1 0 0 0 0 0 0 0 0 0 0 0 0 0  85  54 126 117  47  85  84  78  21 103  59   9 116  75  47  67  72  97  59 125  99   9  11  79  54 ]\n",
      "[ 0 0 0 0 0 0 0 0 0 0 0 0 1 0 0 0 0 0 0 0 0 0 0 0 0  54  85  54 126 117  47  85  84  78  21 103  59   9 116  75  47  67  72  97  59 125  99   9  11  79 ]\n",
      "[ 0 0 0 0 0 0 0 0 0 0 0 0 0 1 0 0 0 0 0 0 0 0 0 0 0  79  54  85  54 126 117  47  85  84  78  21 103  59   9 116  75  47  67  72  97  59 125  99   9  11 ]\n",
      "[ 0 0 0 0 0 0 0 0 0 0 0 0 0 0 1 0 0 0 0 0 0 0 0 0 0  11  79  54  85  54 126 117  47  85  84  78  21 103  59   9 116  75  47  67  72  97  59 125  99   9 ]\n",
      "[ 0 0 0 0 0 0 0 0 0 0 0 0 0 0 0 1 0 0 0 0 0 0 0 0 0   9  11  79  54  85  54 126 117  47  85  84  78  21 103  59   9 116  75  47  67  72  97  59 125  99 ]\n",
      "[ 0 0 0 0 0 0 0 0 0 0 0 0 0 0 0 0 1 0 0 0 0 0 0 0 0  99   9  11  79  54  85  54 126 117  47  85  84  78  21 103  59   9 116  75  47  67  72  97  59 125 ]\n",
      "[ 0 0 0 0 0 0 0 0 0 0 0 0 0 0 0 0 0 1 0 0 0 0 0 0 0 125  99   9  11  79  54  85  54 126 117  47  85  84  78  21 103  59   9 116  75  47  67  72  97  59 ]\n",
      "[ 0 0 0 0 0 0 0 0 0 0 0 0 0 0 0 0 0 0 1 0 0 0 0 0 0  59 125  99   9  11  79  54  85  54 126 117  47  85  84  78  21 103  59   9 116  75  47  67  72  97 ]\n",
      "[ 0 0 0 0 0 0 0 0 0 0 0 0 0 0 0 0 0 0 0 1 0 0 0 0 0  97  59 125  99   9  11  79  54  85  54 126 117  47  85  84  78  21 103  59   9 116  75  47  67  72 ]\n",
      "[ 0 0 0 0 0 0 0 0 0 0 0 0 0 0 0 0 0 0 0 0 1 0 0 0 0  72  97  59 125  99   9  11  79  54  85  54 126 117  47  85  84  78  21 103  59   9 116  75  47  67 ]\n",
      "[ 0 0 0 0 0 0 0 0 0 0 0 0 0 0 0 0 0 0 0 0 0 1 0 0 0  67  72  97  59 125  99   9  11  79  54  85  54 126 117  47  85  84  78  21 103  59   9 116  75  47 ]\n",
      "[ 0 0 0 0 0 0 0 0 0 0 0 0 0 0 0 0 0 0 0 0 0 0 1 0 0  47  67  72  97  59 125  99   9  11  79  54  85  54 126 117  47  85  84  78  21 103  59   9 116  75 ]\n",
      "[ 0 0 0 0 0 0 0 0 0 0 0 0 0 0 0 0 0 0 0 0 0 0 0 1 0  75  47  67  72  97  59 125  99   9  11  79  54  85  54 126 117  47  85  84  78  21 103  59   9 116 ]\n",
      "[ 0 0 0 0 0 0 0 0 0 0 0 0 0 0 0 0 0 0 0 0 0 0 0 0 1 116  75  47  67  72  97  59 125  99   9  11  79  54  85  54 126 117  47  85  84  78  21 103  59   9 ]\n",
      "[ 0 0 0 0 0 0 0 0 0 0 0 0 0 0 0 0 0 0 0 0 0 0 0 0 0 127   0   0   0   0   0   0   0   0   0   0   0   0   0   0   0   0   0   0   0   0   0   0   0   0 ]\n",
      "[ 0 0 0 0 0 0 0 0 0 0 0 0 0 0 0 0 0 0 0 0 0 0 0 0 0   0 127   0   0   0   0   0   0   0   0   0   0   0   0   0   0   0   0   0   0   0   0   0   0   0 ]\n",
      "[ 0 0 0 0 0 0 0 0 0 0 0 0 0 0 0 0 0 0 0 0 0 0 0 0 0   0   0 127   0   0   0   0   0   0   0   0   0   0   0   0   0   0   0   0   0   0   0   0   0   0 ]\n",
      "[ 0 0 0 0 0 0 0 0 0 0 0 0 0 0 0 0 0 0 0 0 0 0 0 0 0   0   0   0 127   0   0   0   0   0   0   0   0   0   0   0   0   0   0   0   0   0   0   0   0   0 ]\n",
      "[ 0 0 0 0 0 0 0 0 0 0 0 0 0 0 0 0 0 0 0 0 0 0 0 0 0   0   0   0   0 127   0   0   0   0   0   0   0   0   0   0   0   0   0   0   0   0   0   0   0   0 ]\n",
      "[ 0 0 0 0 0 0 0 0 0 0 0 0 0 0 0 0 0 0 0 0 0 0 0 0 0   0   0   0   0   0 127   0   0   0   0   0   0   0   0   0   0   0   0   0   0   0   0   0   0   0 ]\n",
      "[ 0 0 0 0 0 0 0 0 0 0 0 0 0 0 0 0 0 0 0 0 0 0 0 0 0   0   0   0   0   0   0 127   0   0   0   0   0   0   0   0   0   0   0   0   0   0   0   0   0   0 ]\n",
      "[ 0 0 0 0 0 0 0 0 0 0 0 0 0 0 0 0 0 0 0 0 0 0 0 0 0   0   0   0   0   0   0   0 127   0   0   0   0   0   0   0   0   0   0   0   0   0   0   0   0   0 ]\n",
      "[ 0 0 0 0 0 0 0 0 0 0 0 0 0 0 0 0 0 0 0 0 0 0 0 0 0   0   0   0   0   0   0   0   0 127   0   0   0   0   0   0   0   0   0   0   0   0   0   0   0   0 ]\n",
      "[ 0 0 0 0 0 0 0 0 0 0 0 0 0 0 0 0 0 0 0 0 0 0 0 0 0   0   0   0   0   0   0   0   0   0 127   0   0   0   0   0   0   0   0   0   0   0   0   0   0   0 ]\n",
      "[ 0 0 0 0 0 0 0 0 0 0 0 0 0 0 0 0 0 0 0 0 0 0 0 0 0   0   0   0   0   0   0   0   0   0   0 127   0   0   0   0   0   0   0   0   0   0   0   0   0   0 ]\n",
      "[ 0 0 0 0 0 0 0 0 0 0 0 0 0 0 0 0 0 0 0 0 0 0 0 0 0   0   0   0   0   0   0   0   0   0   0   0 127   0   0   0   0   0   0   0   0   0   0   0   0   0 ]\n",
      "[ 0 0 0 0 0 0 0 0 0 0 0 0 0 0 0 0 0 0 0 0 0 0 0 0 0   0   0   0   0   0   0   0   0   0   0   0   0 127   0   0   0   0   0   0   0   0   0   0   0   0 ]\n",
      "[ 0 0 0 0 0 0 0 0 0 0 0 0 0 0 0 0 0 0 0 0 0 0 0 0 0   0   0   0   0   0   0   0   0   0   0   0   0   0 127   0   0   0   0   0   0   0   0   0   0   0 ]\n",
      "[ 0 0 0 0 0 0 0 0 0 0 0 0 0 0 0 0 0 0 0 0 0 0 0 0 0   0   0   0   0   0   0   0   0   0   0   0   0   0   0 127   0   0   0   0   0   0   0   0   0   0 ]\n",
      "[ 0 0 0 0 0 0 0 0 0 0 0 0 0 0 0 0 0 0 0 0 0 0 0 0 0   0   0   0   0   0   0   0   0   0   0   0   0   0   0   0 127   0   0   0   0   0   0   0   0   0 ]\n",
      "[ 0 0 0 0 0 0 0 0 0 0 0 0 0 0 0 0 0 0 0 0 0 0 0 0 0   0   0   0   0   0   0   0   0   0   0   0   0   0   0   0   0 127   0   0   0   0   0   0   0   0 ]\n",
      "[ 0 0 0 0 0 0 0 0 0 0 0 0 0 0 0 0 0 0 0 0 0 0 0 0 0   0   0   0   0   0   0   0   0   0   0   0   0   0   0   0   0   0 127   0   0   0   0   0   0   0 ]\n",
      "[ 0 0 0 0 0 0 0 0 0 0 0 0 0 0 0 0 0 0 0 0 0 0 0 0 0   0   0   0   0   0   0   0   0   0   0   0   0   0   0   0   0   0   0 127   0   0   0   0   0   0 ]\n",
      "[ 0 0 0 0 0 0 0 0 0 0 0 0 0 0 0 0 0 0 0 0 0 0 0 0 0   0   0   0   0   0   0   0   0   0   0   0   0   0   0   0   0   0   0   0 127   0   0   0   0   0 ]\n",
      "[ 0 0 0 0 0 0 0 0 0 0 0 0 0 0 0 0 0 0 0 0 0 0 0 0 0   0   0   0   0   0   0   0   0   0   0   0   0   0   0   0   0   0   0   0   0 127   0   0   0   0 ]\n",
      "[ 0 0 0 0 0 0 0 0 0 0 0 0 0 0 0 0 0 0 0 0 0 0 0 0 0   0   0   0   0   0   0   0   0   0   0   0   0   0   0   0   0   0   0   0   0   0 127   0   0   0 ]\n",
      "[ 0 0 0 0 0 0 0 0 0 0 0 0 0 0 0 0 0 0 0 0 0 0 0 0 0   0   0   0   0   0   0   0   0   0   0   0   0   0   0   0   0   0   0   0   0   0   0 127   0   0 ]\n",
      "[ 0 0 0 0 0 0 0 0 0 0 0 0 0 0 0 0 0 0 0 0 0 0 0 0 0   0   0   0   0   0   0   0   0   0   0   0   0   0   0   0   0   0   0   0   0   0   0   0 127   0 ]\n",
      "[ 0 0 0 0 0 0 0 0 0 0 0 0 0 0 0 0 0 0 0 0 0 0 0 0 0   0   0   0   0   0   0   0   0   0   0   0   0   0   0   0   0   0   0   0   0   0   0   0   0 127 ]\n"
     ]
    },
    {
     "data": {
      "text/plain": [
       "394.37418779631105"
      ]
     },
     "execution_count": 4,
     "metadata": {},
     "output_type": "execute_result"
    }
   ],
   "source": [
    "A = IntegerMatrix(50, 50)\n",
    "A.randomize(\"ntrulike\", bits=50, q=127)\n",
    "\n",
    "print(A)\n",
    "A[0].norm()"
   ]
  },
  {
   "cell_type": "code",
   "execution_count": 5,
   "id": "c52451a9",
   "metadata": {},
   "outputs": [
    {
     "data": {
      "text/plain": [
       "0.7982010017295588"
      ]
     },
     "execution_count": 5,
     "metadata": {},
     "output_type": "execute_result"
    }
   ],
   "source": [
    "M = GSO.Mat(A)\n",
    "M.update_gso()\n",
    "\n",
    "M.get_mu(1,0)"
   ]
  },
  {
   "cell_type": "code",
   "execution_count": 6,
   "id": "82de5999",
   "metadata": {},
   "outputs": [
    {
     "data": {
      "text/plain": [
       "0.24"
      ]
     },
     "execution_count": 6,
     "metadata": {},
     "output_type": "execute_result"
    }
   ],
   "source": [
    "L = LLL.Reduction(M)\n",
    "L()\n",
    "M.get_mu(1,0)"
   ]
  },
  {
   "cell_type": "code",
   "execution_count": 7,
   "id": "8513e53b",
   "metadata": {},
   "outputs": [
    {
     "data": {
      "text/plain": [
       "5.0"
      ]
     },
     "execution_count": 7,
     "metadata": {},
     "output_type": "execute_result"
    }
   ],
   "source": [
    "A[0].norm()"
   ]
  },
  {
   "cell_type": "code",
   "execution_count": null,
   "id": "dbf9a197",
   "metadata": {},
   "outputs": [],
   "source": []
  },
  {
   "cell_type": "markdown",
   "id": "12ba4dba",
   "metadata": {},
   "source": [
    "## Multicore"
   ]
  },
  {
   "cell_type": "code",
   "execution_count": 8,
   "id": "c0daf182",
   "metadata": {},
   "outputs": [
    {
     "name": "stderr",
     "output_type": "stream",
     "text": [
      " done 100.00%\n"
     ]
    }
   ],
   "source": [
    "from fpylll import IntegerMatrix, LLL\n",
    "from multiprocessing import Pool\n",
    "\n",
    "d, workers, tasks = 30, 4, 128\n",
    "\n",
    "def run_it(p, f, A, prefix=\"\"):\n",
    "    \"\"\"Print status during parallel execution.\"\"\"\n",
    "    import sys\n",
    "    r = []\n",
    "    for i, retval in enumerate(p.imap_unordered(f, A, 1)):\n",
    "        r.append(retval)\n",
    "        sys.stderr.write('\\r{0} done: {1:.2%}'.format(prefix, float(i)/len(A)))\n",
    "        sys.stderr.flush()\n",
    "    sys.stderr.write('\\r{0} done {1:.2%}\\n'.format(prefix, float(i+1)/len(A)))\n",
    "    return r\n",
    "\n",
    "A = [IntegerMatrix.random(d, \"uniform\", bits=30) for _ in range(tasks)]\n",
    "A = run_it(Pool(workers), LLL.reduction, A)"
   ]
  },
  {
   "cell_type": "code",
   "execution_count": 9,
   "id": "1e42a536",
   "metadata": {},
   "outputs": [
    {
     "name": "stdout",
     "output_type": "stream",
     "text": [
      "[<IntegerMatrix(30, 30) at 0x7fda62470cf0>, <IntegerMatrix(30, 30) at 0x7fda62470cc0>, <IntegerMatrix(30, 30) at 0x7fda62470d50>, <IntegerMatrix(30, 30) at 0x7fda62478480>, <IntegerMatrix(30, 30) at 0x7fda62478300>, <IntegerMatrix(30, 30) at 0x7fda624784b0>, <IntegerMatrix(30, 30) at 0x7fda624784e0>, <IntegerMatrix(30, 30) at 0x7fda62478540>, <IntegerMatrix(30, 30) at 0x7fda624785a0>, <IntegerMatrix(30, 30) at 0x7fda62478600>, <IntegerMatrix(30, 30) at 0x7fda62478930>, <IntegerMatrix(30, 30) at 0x7fda624787e0>, <IntegerMatrix(30, 30) at 0x7fda62478a80>, <IntegerMatrix(30, 30) at 0x7fda62478630>, <IntegerMatrix(30, 30) at 0x7fda62478ab0>, <IntegerMatrix(30, 30) at 0x7fda624787b0>, <IntegerMatrix(30, 30) at 0x7fda624789c0>, <IntegerMatrix(30, 30) at 0x7fda624789f0>, <IntegerMatrix(30, 30) at 0x7fda62478960>, <IntegerMatrix(30, 30) at 0x7fda62478840>, <IntegerMatrix(30, 30) at 0x7fda624785d0>, <IntegerMatrix(30, 30) at 0x7fda62478780>, <IntegerMatrix(30, 30) at 0x7fda62478660>, <IntegerMatrix(30, 30) at 0x7fda62478870>, <IntegerMatrix(30, 30) at 0x7fda62478a20>, <IntegerMatrix(30, 30) at 0x7fda624788d0>, <IntegerMatrix(30, 30) at 0x7fda62478c30>, <IntegerMatrix(30, 30) at 0x7fda62478c00>, <IntegerMatrix(30, 30) at 0x7fda624786f0>, <IntegerMatrix(30, 30) at 0x7fda62478ba0>, <IntegerMatrix(30, 30) at 0x7fda62478bd0>, <IntegerMatrix(30, 30) at 0x7fda624788a0>, <IntegerMatrix(30, 30) at 0x7fda62478330>, <IntegerMatrix(30, 30) at 0x7fda62478510>, <IntegerMatrix(30, 30) at 0x7fda62478a50>, <IntegerMatrix(30, 30) at 0x7fda62478c90>, <IntegerMatrix(30, 30) at 0x7fda62478810>, <IntegerMatrix(30, 30) at 0x7fda62478d50>, <IntegerMatrix(30, 30) at 0x7fda62478ae0>, <IntegerMatrix(30, 30) at 0x7fda62478cf0>, <IntegerMatrix(30, 30) at 0x7fda62478b10>, <IntegerMatrix(30, 30) at 0x7fda62478690>, <IntegerMatrix(30, 30) at 0x7fda62478990>, <IntegerMatrix(30, 30) at 0x7fda62478b70>, <IntegerMatrix(30, 30) at 0x7fda62478cc0>, <IntegerMatrix(30, 30) at 0x7fda62478d20>, <IntegerMatrix(30, 30) at 0x7fda6247e0c0>, <IntegerMatrix(30, 30) at 0x7fda6247e150>, <IntegerMatrix(30, 30) at 0x7fda6247e1b0>, <IntegerMatrix(30, 30) at 0x7fda6247e180>, <IntegerMatrix(30, 30) at 0x7fda6247e1e0>, <IntegerMatrix(30, 30) at 0x7fda6247e240>, <IntegerMatrix(30, 30) at 0x7fda62478900>, <IntegerMatrix(30, 30) at 0x7fda62478f60>, <IntegerMatrix(30, 30) at 0x7fda62478f30>, <IntegerMatrix(30, 30) at 0x7fda6247e2d0>, <IntegerMatrix(30, 30) at 0x7fda6247e120>, <IntegerMatrix(30, 30) at 0x7fda62478ea0>, <IntegerMatrix(30, 30) at 0x7fda62478b40>, <IntegerMatrix(30, 30) at 0x7fda62470d20>, <IntegerMatrix(30, 30) at 0x7fda6247e300>, <IntegerMatrix(30, 30) at 0x7fda6247e090>, <IntegerMatrix(30, 30) at 0x7fda6247e360>, <IntegerMatrix(30, 30) at 0x7fda6247e4e0>, <IntegerMatrix(30, 30) at 0x7fda6247e3c0>, <IntegerMatrix(30, 30) at 0x7fda6247e540>, <IntegerMatrix(30, 30) at 0x7fda6247e570>, <IntegerMatrix(30, 30) at 0x7fda6247e600>, <IntegerMatrix(30, 30) at 0x7fda6247e5a0>, <IntegerMatrix(30, 30) at 0x7fda6247e5d0>, <IntegerMatrix(30, 30) at 0x7fda6247e630>, <IntegerMatrix(30, 30) at 0x7fda6247e690>, <IntegerMatrix(30, 30) at 0x7fda6247e210>, <IntegerMatrix(30, 30) at 0x7fda6247e510>, <IntegerMatrix(30, 30) at 0x7fda6247e6f0>, <IntegerMatrix(30, 30) at 0x7fda6247e750>, <IntegerMatrix(30, 30) at 0x7fda6247e270>, <IntegerMatrix(30, 30) at 0x7fda6247e720>, <IntegerMatrix(30, 30) at 0x7fda6247e780>, <IntegerMatrix(30, 30) at 0x7fda6247e6c0>, <IntegerMatrix(30, 30) at 0x7fda6247e7b0>, <IntegerMatrix(30, 30) at 0x7fda6247e030>, <IntegerMatrix(30, 30) at 0x7fda6247e870>, <IntegerMatrix(30, 30) at 0x7fda6247e390>, <IntegerMatrix(30, 30) at 0x7fda6247e930>, <IntegerMatrix(30, 30) at 0x7fda6247e900>, <IntegerMatrix(30, 30) at 0x7fda6247e9c0>, <IntegerMatrix(30, 30) at 0x7fda6247e960>, <IntegerMatrix(30, 30) at 0x7fda62478c60>, <IntegerMatrix(30, 30) at 0x7fda6247e9f0>, <IntegerMatrix(30, 30) at 0x7fda6247e2a0>, <IntegerMatrix(30, 30) at 0x7fda6247e8d0>, <IntegerMatrix(30, 30) at 0x7fda6247e4b0>, <IntegerMatrix(30, 30) at 0x7fda6247ea50>, <IntegerMatrix(30, 30) at 0x7fda6247e480>, <IntegerMatrix(30, 30) at 0x7fda6247e840>, <IntegerMatrix(30, 30) at 0x7fda6247e3f0>, <IntegerMatrix(30, 30) at 0x7fda6247e660>, <IntegerMatrix(30, 30) at 0x7fda62478e40>, <IntegerMatrix(30, 30) at 0x7fda62478ed0>, <IntegerMatrix(30, 30) at 0x7fda6247ec30>, <IntegerMatrix(30, 30) at 0x7fda6247eb40>, <IntegerMatrix(30, 30) at 0x7fda6247e420>, <IntegerMatrix(30, 30) at 0x7fda6247e0f0>, <IntegerMatrix(30, 30) at 0x7fda6247eb10>, <IntegerMatrix(30, 30) at 0x7fda6247edb0>, <IntegerMatrix(30, 30) at 0x7fda62478db0>, <IntegerMatrix(30, 30) at 0x7fda62478f00>, <IntegerMatrix(30, 30) at 0x7fda6247eea0>, <IntegerMatrix(30, 30) at 0x7fda6247eed0>, <IntegerMatrix(30, 30) at 0x7fda6247eab0>, <IntegerMatrix(30, 30) at 0x7fda6247ee10>, <IntegerMatrix(30, 30) at 0x7fda6247ee40>, <IntegerMatrix(30, 30) at 0x7fda6247ee70>, <IntegerMatrix(30, 30) at 0x7fda6247ede0>, <IntegerMatrix(30, 30) at 0x7fda6247ef00>, <IntegerMatrix(30, 30) at 0x7fda6247ef30>, <IntegerMatrix(30, 30) at 0x7fda6247ef60>, <IntegerMatrix(30, 30) at 0x7fda6247ef90>, <IntegerMatrix(30, 30) at 0x7fda6247e810>, <IntegerMatrix(30, 30) at 0x7fda624801e0>, <IntegerMatrix(30, 30) at 0x7fda62480150>, <IntegerMatrix(30, 30) at 0x7fda62480210>, <IntegerMatrix(30, 30) at 0x7fda6247e8a0>, <IntegerMatrix(30, 30) at 0x7fda6247ebd0>, <IntegerMatrix(30, 30) at 0x7fda6247ec90>, <IntegerMatrix(30, 30) at 0x7fda62478d80>, <IntegerMatrix(30, 30) at 0x7fda6247eb70>]\n"
     ]
    }
   ],
   "source": [
    "print(A)"
   ]
  },
  {
   "cell_type": "code",
   "execution_count": null,
   "id": "727c3f7a",
   "metadata": {},
   "outputs": [],
   "source": []
  }
 ],
 "metadata": {
  "kernelspec": {
   "display_name": "Python 3",
   "language": "python",
   "name": "python3"
  },
  "language_info": {
   "codemirror_mode": {
    "name": "ipython",
    "version": 3
   },
   "file_extension": ".py",
   "mimetype": "text/x-python",
   "name": "python",
   "nbconvert_exporter": "python",
   "pygments_lexer": "ipython3",
   "version": "3.8.12"
  }
 },
 "nbformat": 4,
 "nbformat_minor": 5
}
