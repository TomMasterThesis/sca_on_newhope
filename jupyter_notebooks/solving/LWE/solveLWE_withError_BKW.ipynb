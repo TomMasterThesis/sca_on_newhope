{
 "cells": [
  {
   "cell_type": "markdown",
   "metadata": {},
   "source": [
    "# Learning With Errors (LWE)"
   ]
  },
  {
   "cell_type": "markdown",
   "metadata": {},
   "source": [
    "## import libs"
   ]
  },
  {
   "cell_type": "code",
   "execution_count": 1,
   "metadata": {},
   "outputs": [],
   "source": [
    "#!conda install pycrypto -y\n",
    "#!conda install numba -y"
   ]
  },
  {
   "cell_type": "code",
   "execution_count": 2,
   "metadata": {},
   "outputs": [],
   "source": [
    "import numpy as np\n",
    "import pandas as pd\n",
    "import scipy.stats\n",
    "import math\n",
    "import itertools\n",
    "import random\n",
    "from Crypto.Util import number\n",
    "\n",
    "import matplotlib.pyplot as plt\n",
    "from matplotlib import collections as matcoll\n",
    "\n",
    "import time\n",
    "\n",
    "%load_ext cython"
   ]
  },
  {
   "cell_type": "markdown",
   "metadata": {},
   "source": [
    "## Set vector s (secret)"
   ]
  },
  {
   "cell_type": "markdown",
   "metadata": {},
   "source": [
    "Choose $s \\in \\mathbb{Z}^m_p$ with arbitrary $m \\in \\mathbb{N}$"
   ]
  },
  {
   "cell_type": "code",
   "execution_count": 3,
   "metadata": {},
   "outputs": [],
   "source": [
    "#s = np.array([1, 1, 1]) \n",
    "s = np.array([1, 2, 3]) \n",
    "#s = np.array([10, 13, 9, 11]) \n",
    "#s = np.array([10, 13, 9, 11, 3]) \n",
    "n = len(s)"
   ]
  },
  {
   "cell_type": "markdown",
   "metadata": {},
   "source": [
    "## parameters"
   ]
  },
  {
   "cell_type": "code",
   "execution_count": 42,
   "metadata": {},
   "outputs": [
    {
     "data": {
      "text/plain": [
       "659"
      ]
     },
     "execution_count": 42,
     "metadata": {},
     "output_type": "execute_result"
    }
   ],
   "source": [
    "number.getPrime(10)"
   ]
  },
  {
   "cell_type": "code",
   "execution_count": 4,
   "metadata": {},
   "outputs": [
    {
     "name": "stdout",
     "output_type": "stream",
     "text": [
      "Prime: 13\n",
      "Count of equations: 100\n",
      "0.05\n",
      "Mu: 0 \t Sigma: 2\n"
     ]
    },
    {
     "data": {
      "image/png": "[encoded data removed]",
      "text/plain": [
       "<Figure size 1152x360 with 1 Axes>"
      ]
     },
     "metadata": {
      "needs_background": "light"
     },
     "output_type": "display_data"
    }
   ],
   "source": [
    "# modulus \n",
    "#p = 17  # only prime numbers (it has to be a finite field)\n",
    "p = number.getPrime(n.bit_length()**2)  # using pycrypto lib  (p = O(n^2))\n",
    "print(\"Prime:\", p)\n",
    "\n",
    "#size parameter\n",
    "m = 100\n",
    "#m = min(2**(3*n), 200)\n",
    "print('Count of equations:', m)\n",
    "\n",
    "# distribution \n",
    "## gaussian in this example according to the paper https://cims.nyu.edu/~regev/papers/lwesurvey.pdf (09.11.2021, page 2)\n",
    "mu = 0\n",
    "#alpha = 1/(math.sqrt(n)*math.log2(n)**2)   # α = 1/(√n log^2(n))\n",
    "alpha = 0.05\n",
    "print(alpha)\n",
    "sigma = alpha * p  \n",
    "sigma = 2\n",
    "print(\"Mu:\", mu, \"\\t Sigma:\", sigma)\n",
    "\n",
    "## plot the dense function of the distribution\n",
    "gridPointCount = 10000; delta = 1/gridPointCount\n",
    "interval = [-4*np.ceil(sigma), 4*np.ceil(sigma)]\n",
    "\n",
    "x = np.linspace(interval[0], interval[1], gridPointCount)\n",
    "y = scipy.stats.norm.pdf(x, loc=mu, scale=sigma)\n",
    "\n",
    "fig, ax = plt.subplots(figsize=(16, 5))\n",
    "ax.fill_between(x, y)\n",
    "ax.set_xticks(np.linspace(interval[0], interval[1], 20, dtype = int))\n",
    "fig.savefig('gaussianPropapation.png')\n",
    "plt.show()"
   ]
  },
  {
   "cell_type": "code",
   "execution_count": 5,
   "metadata": {},
   "outputs": [
    {
     "data": {
      "image/png": "[encoded data removed]",
      "text/plain": [
       "<Figure size 1152x360 with 1 Axes>"
      ]
     },
     "metadata": {
      "needs_background": "light"
     },
     "output_type": "display_data"
    }
   ],
   "source": [
    "x = np.arange(interval[0]+.5, interval[1]+.5, 1)\n",
    "y = scipy.stats.norm.cdf(x, loc=mu, scale=sigma)\n",
    "\n",
    "z = y[1:] - y[:-1] \n",
    "\n",
    "fig, ax = plt.subplots(figsize=(16, 5))\n",
    "ax.stem(x[:-1]+.5, z, basefmt=\" \", use_line_collection=True)\n",
    "ax.set_xticks(np.linspace(interval[0], interval[1], 20, dtype = int))\n",
    "fig.savefig('roundedGaussianPropapation.png')\n",
    "plt.show()"
   ]
  },
  {
   "cell_type": "markdown",
   "metadata": {},
   "source": [
    "## Construct the LWE problem"
   ]
  },
  {
   "cell_type": "markdown",
   "metadata": {},
   "source": [
    "#### Construct A, b and e "
   ]
  },
  {
   "cell_type": "code",
   "execution_count": 6,
   "metadata": {},
   "outputs": [],
   "source": [
    "np.random.seed(42)  # set seed\n",
    "np.random.randint(0, p)  # uniform distribution (p excluded)\n",
    "np.random.normal(loc=mu, scale=sigma, size=n)  # gaussian distribution\n",
    "\n",
    "A = np.random.randint(0, p, size=(m, n))\n",
    "\n",
    "e = np.rint(np.random.normal(loc=mu, scale=sigma, size=m))  # rounding specified by the IEEE floating point standard IEEE 754 \n",
    "\n",
    "b = (np.matmul(A, s) + e)%p  # system of linear equations with perturbation"
   ]
  },
  {
   "cell_type": "code",
   "execution_count": 7,
   "metadata": {},
   "outputs": [
    {
     "data": {
      "text/plain": [
       "(array([5, 8, 7]), 5.0, 2.0)"
      ]
     },
     "execution_count": 7,
     "metadata": {},
     "output_type": "execute_result"
    }
   ],
   "source": [
    "# oracle\n",
    "def oracleLWE(s, p, n, mu, sigma):\n",
    "    a = np.random.randint(0, p, size=n)\n",
    "    \n",
    "    e = np.rint(np.random.normal(loc=mu, scale=sigma))\n",
    "    \n",
    "    b = (a.dot(s) + e)%p\n",
    "    \n",
    "    return a, b, e\n",
    "    \n",
    "oracleLWE(s, p, n, mu, sigma)"
   ]
  },
  {
   "cell_type": "code",
   "execution_count": 8,
   "metadata": {},
   "outputs": [
    {
     "name": "stdout",
     "output_type": "stream",
     "text": [
      "15.3 µs ± 3.5 µs per loop (mean ± std. dev. of 7 runs, 10000 loops each)\n"
     ]
    }
   ],
   "source": [
    "%timeit oracleLWE(s, p, n, mu, sigma)"
   ]
  },
  {
   "cell_type": "markdown",
   "metadata": {},
   "source": [
    "## Solving LWE"
   ]
  },
  {
   "cell_type": "markdown",
   "metadata": {},
   "source": [
    "### Blum-Kalai-Wasserman (BKW)  (variant of https://eprint.iacr.org/2012/636.pdf)"
   ]
  },
  {
   "cell_type": "markdown",
   "metadata": {},
   "source": [
    "### helper functions"
   ]
  },
  {
   "cell_type": "code",
   "execution_count": 9,
   "metadata": {},
   "outputs": [
    {
     "name": "stdout",
     "output_type": "stream",
     "text": [
      "Solving the congruence: 272x = 256  (mod 1009)\n",
      "Particular solution: x = 179\n",
      "General solution: x = 179  (mod 1009)\n"
     ]
    }
   ],
   "source": [
    "# Iterative Algorithm (xgcd)\n",
    "def iterative_egcd(a, b):\n",
    "    x,y, u,v = 0,1, 1,0\n",
    "    while a != 0:\n",
    "        q,r = b//a,b%a; m,n = x-u*q,y-v*q # use x//y for floor \"floor division\"\n",
    "        b,a, x,y, u,v = a,r, u,v, m,n\n",
    "    return b, x, y\n",
    "\n",
    "def modinv(a, m):\n",
    "    g, x, y = iterative_egcd(a, m) \n",
    "    if g != 1:\n",
    "        return None\n",
    "    else:\n",
    "        return x % m\n",
    "    \n",
    "def solve_linear_congruence(a, b, m):\n",
    "    \"\"\" Describe all solutions to ax = b  (mod m), or raise ValueError. \"\"\"\n",
    "    g = math.gcd(a, m)\n",
    "    if b % g:\n",
    "        raise ValueError(\"No solutions\")\n",
    "    a, b, m = a//g, b//g, m//g\n",
    "    return modinv(a, m) * b % m, m\n",
    "\n",
    "def print_solutions(a, b, m):\n",
    "    print(f\"Solving the congruence: {a}x = {b}  (mod {m})\")\n",
    "    x, mx = solve_linear_congruence(a, b, m)\n",
    "    \n",
    "    print(f\"Particular solution: x = {x}\")\n",
    "    print(f\"General solution: x = {x}  (mod {mx})\")\n",
    "    \n",
    "# for debug\n",
    "print_solutions(272, 256, 1009)"
   ]
  },
  {
   "cell_type": "code",
   "execution_count": null,
   "metadata": {},
   "outputs": [],
   "source": []
  },
  {
   "cell_type": "markdown",
   "metadata": {},
   "source": [
    "### Solving algorithm"
   ]
  },
  {
   "cell_type": "code",
   "execution_count": null,
   "metadata": {},
   "outputs": [],
   "source": []
  },
  {
   "cell_type": "code",
   "execution_count": 10,
   "metadata": {},
   "outputs": [],
   "source": [
    "def furtherElimination(prevCompareVec, subsetDict, guessCountDict, a, b, p):\n",
    "    equationList = subsetDict.get(prevCompareVec.tobytes())\n",
    "    for (a_tilde, b_tilde) in equationList:\n",
    "        compareVec = (a == a_tilde) \n",
    "        compareVecNeg = (a == -a_tilde%p)\n",
    "\n",
    "        if (len(compareVec) - sum(compareVec) == 1):\n",
    "            a_new = (a - a_tilde) % p\n",
    "            b_new = (b - b_tilde) % p\n",
    "            pos = np.nonzero(a_new)[0]\n",
    "            a_coeff = a_new[pos][0]\n",
    "            (secret, _) = solve_linear_congruence(a_coeff, b_new, p)\n",
    "            guessCountDict.get(pos[0]).append(secret)\n",
    "            #subsetDict.get(compareVec.tobytes()).append((a_new, b_new))  # debug\n",
    "        else:\n",
    "            if (len(compareVec) != sum(compareVec)) and (sum(compareVec) > sum(prevCompareVec)):\n",
    "                a_new = (a - a_tilde) % p\n",
    "                b_new = (b - b_tilde) % p\n",
    "                subsetDict.get(compareVec.tobytes()).append((a_new, b_new))\n",
    "                furtherElimination(compareVec, subsetDict, guessCountDict, a_new, b_new, p)\n",
    "                \n",
    "        #continue  # debug    \n",
    "        if (len(compareVecNeg) - sum(compareVecNeg) == 1):\n",
    "            a_new = (a + a_tilde) % p\n",
    "            b_new = (b + b_tilde) % p\n",
    "            pos = np.nonzero(a_new)[0]\n",
    "            a_coeff = a_new[pos][0]\n",
    "            (secret, _) = solve_linear_congruence(a_coeff, b_new, p)\n",
    "            guessCountDict.get(pos[0]).append(secret)\n",
    "            #subsetDict.get(compareVecNeg.tobytes()).append((a_new, b_new))  # debug\n",
    "        else:\n",
    "            if (len(compareVecNeg) != sum(compareVecNeg)) and (sum(compareVecNeg) > sum(prevCompareVec)):\n",
    "                a_new = (a + a_tilde) % p\n",
    "                b_new = (b + b_tilde) % p\n",
    "                subsetDict.get(compareVecNeg.tobytes()).append((a_new, b_new))\n",
    "                furtherElimination(compareVecNeg, subsetDict, guessCountDict, a_new, b_new, p)\n"
   ]
  },
  {
   "cell_type": "code",
   "execution_count": 31,
   "metadata": {
    "scrolled": true
   },
   "outputs": [],
   "source": [
    "def solveLWE(s, n, p, mu, sigma):\n",
    "    # initialize subsets\n",
    "    subsetDict = dict()\n",
    "    for item in itertools.product(\"\\x01\\x00\", repeat=n):\n",
    "        subsetDict.setdefault(bytes(\"\".join(item), encoding='utf8'), list())\n",
    "\n",
    "    # initialize error memory\n",
    "    errorList = list()\n",
    "\n",
    "    # initialize guess count\n",
    "    guessCountDict = dict()\n",
    "    for key in range(n):\n",
    "        guessCountDict.setdefault(key, list())\n",
    "\n",
    "    start = time.time()\n",
    "    for i in range(200):\n",
    "        a, b, e = oracleLWE(s, p, n, mu, sigma)\n",
    "        errorList.append(e)\n",
    "\n",
    "        compareVec = (a == np.zeros(n))\n",
    "        furtherElimination(compareVec, subsetDict, guessCountDict, a, b, p)\n",
    "\n",
    "        subsetDict.get(compareVec.tobytes()).append((a, b))\n",
    "        \n",
    "    end = time.time()\n",
    "    print(\"Processing Time:\", end-start)\n",
    "        \n",
    "    print(i, [len(elt) for key, elt in subsetDict.items()])\n",
    "        \n",
    "    return subsetDict, guessCountDict, errorList"
   ]
  },
  {
   "cell_type": "code",
   "execution_count": null,
   "metadata": {
    "scrolled": false
   },
   "outputs": [],
   "source": [
    "%%time \n",
    "subsetDict, guessCountDict, errorList = solveLWE(s, n, p, mu, sigma)"
   ]
  },
  {
   "cell_type": "code",
   "execution_count": 25,
   "metadata": {},
   "outputs": [
    {
     "name": "stdout",
     "output_type": "stream",
     "text": [
      "Position: 0\n",
      "Min significants: 0.0 True\n",
      "Guess: 1.0\n",
      "\n",
      "Position: 1\n",
      "Min significants: 0.0 True\n",
      "Guess: 2.0\n",
      "\n",
      "Position: 2\n",
      "Min significants: 0.0 True\n",
      "Guess: 3.0\n",
      "\n",
      "\n",
      "\n",
      "Guess: [1.0, 2.0, 3.0] \t Right Solution: [1 2 3] \t Solved!\n"
     ]
    }
   ],
   "source": [
    "guess = list()\n",
    "\n",
    "for key, value in guessCountDict.items():\n",
    "    try:\n",
    "        print(\"Position:\", key)\n",
    "        unique, counts = np.unique(value, return_counts=True)\n",
    "        significantList = [scipy.stats.binom_test(count, n=len(value), p=1/p, alternative='greater') for count in counts]  # determine significant level\n",
    "        #print(unique, counts) \n",
    "        significantArgMin = np.argmin(significantList)\n",
    "        print(\"Min significants:\",  significantList[significantArgMin], significantList[significantArgMin]<0.001)\n",
    "        indexOfMax = np.argmax(counts)\n",
    "        guessTmp = unique[indexOfMax]\n",
    "        guess.append(guessTmp)\n",
    "        print(\"Guess:\", guessTmp)\n",
    "        print()\n",
    "    except ValueError:\n",
    "        pass\n",
    "    \n",
    "print()\n",
    "print()\n",
    "if (guess==s%p).all():\n",
    "    print(\"Guess:\", guess, \"\\t\", \"Right Solution:\", s%p, \"\\t\", \"Solved!\")\n",
    "else:\n",
    "    print(\"Guess:\", guess, \"\\t\", \"Right Solution:\", s%p, \"\\t\", \"Failed!\")"
   ]
  },
  {
   "cell_type": "code",
   "execution_count": 26,
   "metadata": {},
   "outputs": [
    {
     "data": {
      "image/png": "[encoded data removed]",
      "text/plain": [
       "<Figure size 1152x360 with 2 Axes>"
      ]
     },
     "metadata": {
      "needs_background": "light"
     },
     "output_type": "display_data"
    }
   ],
   "source": [
    "# evaluate error distribution of the concrete LWE instance\n",
    "\n",
    "fig, ax = plt.subplots(nrows=2, figsize=(16, 5))\n",
    "\n",
    "unique, counts = np.unique(np.array(errorList), return_counts=True)\n",
    "ax[0].stem(unique, counts, basefmt=\" \", use_line_collection=True)\n",
    "ax[0].set_xticks(range(round(min(unique)), round(max(unique))+1))\n",
    "\n",
    "unique, counts = np.unique(np.array(errorList)%p, return_counts=True)\n",
    "ax[1].stem(unique, counts, basefmt=\" \", use_line_collection=True)\n",
    "ax[1].set_xticks(range(round(min(unique)), round(max(unique))+1))\n",
    "\n",
    "plt.show()"
   ]
  },
  {
   "cell_type": "code",
   "execution_count": null,
   "metadata": {},
   "outputs": [],
   "source": []
  },
  {
   "cell_type": "code",
   "execution_count": 27,
   "metadata": {},
   "outputs": [
    {
     "name": "stdout",
     "output_type": "stream",
     "text": [
      "-0.42\n"
     ]
    },
    {
     "data": {
      "text/plain": [
       "1.9062004091910167"
      ]
     },
     "execution_count": 27,
     "metadata": {},
     "output_type": "execute_result"
    }
   ],
   "source": [
    "#error\n",
    "## mean\n",
    "print(np.array(errorList).mean())\n",
    "## std\n",
    "np.array(errorList).std()"
   ]
  },
  {
   "cell_type": "code",
   "execution_count": 30,
   "metadata": {
    "scrolled": true
   },
   "outputs": [
    {
     "name": "stdout",
     "output_type": "stream",
     "text": [
      "Position: 0\n",
      "[36351 49352 36583 36638 36121 36695 36552 36211 36606 36810 36322 36197\n",
      " 36472]\n"
     ]
    },
    {
     "data": {
      "image/png": "[encoded data removed]",
      "text/plain": [
       "<Figure size 1152x360 with 1 Axes>"
      ]
     },
     "metadata": {
      "needs_background": "light"
     },
     "output_type": "display_data"
    },
    {
     "name": "stdout",
     "output_type": "stream",
     "text": [
      "Position: 1\n",
      "[35255 35029 47803 34875 35314 34948 35511 34926 35703 34918 35169 35052\n",
      " 35158]\n"
     ]
    },
    {
     "data": {
      "image/png": "[encoded data removed]",
      "text/plain": [
       "<Figure size 1152x360 with 1 Axes>"
      ]
     },
     "metadata": {
      "needs_background": "light"
     },
     "output_type": "display_data"
    },
    {
     "name": "stdout",
     "output_type": "stream",
     "text": [
      "Position: 2\n",
      "[35498 35230 35804 48550 35429 35683 35405 35513 35879 35705 35678 35728\n",
      " 35497]\n"
     ]
    },
    {
     "data": {
      "image/png": "[encoded data removed]",
      "text/plain": [
       "<Figure size 1152x360 with 1 Axes>"
      ]
     },
     "metadata": {
      "needs_background": "light"
     },
     "output_type": "display_data"
    }
   ],
   "source": [
    "for key, value in guessCountDict.items():\n",
    "    print(\"Position:\", key)\n",
    "    unique, counts = np.unique(value, return_counts=True)\n",
    "    fig, ax = plt.subplots(figsize=(16, 5))\n",
    "    ax.stem(unique, counts, basefmt=\" \", use_line_collection=True)\n",
    "    ax.set_xticks(range(round(min(unique)), round(max(unique))+1))\n",
    "    plt.show()"
   ]
  },
  {
   "cell_type": "code",
   "execution_count": 29,
   "metadata": {
    "scrolled": true
   },
   "outputs": [
    {
     "name": "stdout",
     "output_type": "stream",
     "text": [
      "Position: 0\n",
      "5.866318210757635\n",
      "3.7761477481197243\n",
      "\n",
      "Position: 1\n",
      "5.893288989292277\n",
      "3.7461888133788905\n",
      "\n",
      "Position: 2\n",
      "5.924673937497766\n",
      "3.7211277471015007\n",
      "\n"
     ]
    }
   ],
   "source": [
    "import statistics \n",
    "# positions of the solution\n",
    "for key, value in guessCountDict.items():\n",
    "    print(\"Position:\", key)\n",
    "    ## mean\n",
    "    print(statistics.mean(value))\n",
    "    ## std\n",
    "    print(statistics.stdev(value))\n",
    "    \n",
    "    print()"
   ]
  },
  {
   "cell_type": "code",
   "execution_count": null,
   "metadata": {},
   "outputs": [],
   "source": [
    "\n",
    "    "
   ]
  },
  {
   "cell_type": "code",
   "execution_count": null,
   "metadata": {},
   "outputs": [],
   "source": []
  },
  {
   "cell_type": "code",
   "execution_count": null,
   "metadata": {},
   "outputs": [],
   "source": []
  }
 ],
 "metadata": {
  "kernelspec": {
   "display_name": "Python 3",
   "language": "python",
   "name": "python3"
  },
  "language_info": {
   "codemirror_mode": {
    "name": "ipython",
    "version": 3
   },
   "file_extension": ".py",
   "mimetype": "text/x-python",
   "name": "python",
   "nbconvert_exporter": "python",
   "pygments_lexer": "ipython3",
   "version": "3.8.12"
  }
 },
 "nbformat": 4,
 "nbformat_minor": 4
}
