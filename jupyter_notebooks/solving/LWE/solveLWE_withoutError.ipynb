{
 "cells": [
  {
   "cell_type": "markdown",
   "metadata": {},
   "source": [
    "# Learning With Errors (LWE)"
   ]
  },
  {
   "cell_type": "markdown",
   "metadata": {},
   "source": [
    "## import libs"
   ]
  },
  {
   "cell_type": "code",
   "execution_count": 1,
   "metadata": {},
   "outputs": [],
   "source": [
    "#!conda install pycrypto"
   ]
  },
  {
   "cell_type": "code",
   "execution_count": 2,
   "metadata": {},
   "outputs": [],
   "source": [
    "import numpy as np\n",
    "import pandas as pd\n",
    "import scipy.stats\n",
    "import math\n",
    "import itertools\n",
    "import random\n",
    "from Crypto.Util import number\n",
    "\n",
    "import matplotlib.pyplot as plt\n",
    "from matplotlib import collections as matcoll"
   ]
  },
  {
   "cell_type": "markdown",
   "metadata": {},
   "source": [
    "## Set vector s (secret)"
   ]
  },
  {
   "cell_type": "markdown",
   "metadata": {},
   "source": [
    "Choose $s \\in \\mathbb{Z}^m_p$ with arbitrary $m \\in \\mathbb{N}$"
   ]
  },
  {
   "cell_type": "code",
   "execution_count": 3,
   "metadata": {},
   "outputs": [],
   "source": [
    "#s = np.array([2, 3]) \n",
    "#s = np.array([10, 13, 9]) \n",
    "#s = np.array([10, 13, 9, 11]) \n",
    "#s = np.array([10, 13, 9, 11, 3]) \n",
    "s = np.array([10, 13, 9, 11, 3, 10, 13, 9, 11, 3, 10]) \n",
    "n = len(s)"
   ]
  },
  {
   "cell_type": "markdown",
   "metadata": {},
   "source": [
    "## parameters"
   ]
  },
  {
   "cell_type": "code",
   "execution_count": 4,
   "metadata": {},
   "outputs": [
    {
     "name": "stdout",
     "output_type": "stream",
     "text": [
      "Prime: 47293\n",
      "Count of equations: 11\n"
     ]
    }
   ],
   "source": [
    "random.seed(42)  #set seed\n",
    "\n",
    "# modulus \n",
    "#p = 17  # only prime numbers (it has to be a finite field)\n",
    "p = number.getPrime(n.bit_length()**2, randfunc=np.random.bytes)  # using pycrypto lib  (p = O(n^2))\n",
    "print(\"Prime:\", p)\n",
    "\n",
    "#size parameter\n",
    "m = n\n",
    "print('Count of equations:', m)"
   ]
  },
  {
   "cell_type": "markdown",
   "metadata": {},
   "source": [
    "## Construct the LWE problem without error"
   ]
  },
  {
   "cell_type": "markdown",
   "metadata": {},
   "source": [
    "#### Construct A, b"
   ]
  },
  {
   "cell_type": "code",
   "execution_count": 5,
   "metadata": {},
   "outputs": [],
   "source": [
    "A = np.random.randint(0, p, size=(m, n))\n",
    "\n",
    "b = (np.matmul(A, s))%p  # system of linear equations without perturbation"
   ]
  },
  {
   "cell_type": "markdown",
   "metadata": {},
   "source": [
    "## Solving"
   ]
  },
  {
   "cell_type": "markdown",
   "metadata": {},
   "source": [
    "### Modified Gaussian Elimination"
   ]
  },
  {
   "cell_type": "code",
   "execution_count": 6,
   "metadata": {},
   "outputs": [
    {
     "name": "stdout",
     "output_type": "stream",
     "text": [
      "Solving the congruence: 272x = 256  (mod 1009)\n",
      "Particular solution: x = 179\n",
      "General solution: x = 179  (mod 1009)\n"
     ]
    }
   ],
   "source": [
    "# Iterative Algorithm (xgcd)\n",
    "def iterative_egcd(a, b):\n",
    "    x,y, u,v = 0,1, 1,0\n",
    "    while a != 0:\n",
    "        q,r = b//a,b%a; m,n = x-u*q,y-v*q # use x//y for floor \"floor division\"\n",
    "        b,a, x,y, u,v = a,r, u,v, m,n\n",
    "    return b, x, y\n",
    "\n",
    "def modinv(a, m):\n",
    "    g, x, y = iterative_egcd(a, m) \n",
    "    if g != 1:\n",
    "        return None\n",
    "    else:\n",
    "        return x % m\n",
    "    \n",
    "def solve_linear_congruence(a, b, m):\n",
    "    \"\"\" Describe all solutions to ax = b  (mod m), or raise ValueError. \"\"\"\n",
    "    g = math.gcd(a, m)\n",
    "    if b % g:\n",
    "        raise ValueError(\"No solutions\")\n",
    "    a, b, m = a//g, b//g, m//g\n",
    "    return modinv(a, m) * b % m, m\n",
    "\n",
    "def print_solutions(a, b, m):\n",
    "    print(f\"Solving the congruence: {a}x = {b}  (mod {m})\")\n",
    "    x, mx = solve_linear_congruence(a, b, m)\n",
    "    \n",
    "    print(f\"Particular solution: x = {x}\")\n",
    "    print(f\"General solution: x = {x}  (mod {mx})\")\n",
    "    \n",
    "# for debug\n",
    "print_solutions(272, 256, 1009)"
   ]
  },
  {
   "cell_type": "code",
   "execution_count": 7,
   "metadata": {
    "scrolled": true
   },
   "outputs": [],
   "source": [
    "def gaussianEliminationForward(A, b, modulus):\n",
    "    (m, n) = A.shape\n",
    "    \n",
    "    A = np.copy(A[:n][:])\n",
    "    b = np.copy(b[:n])\n",
    "    \n",
    "    \n",
    "    for j in range(n):  # quadratic matrix\n",
    "        i = j\n",
    "        while(i<n-1):\n",
    "            rowUpper = A[i, :]\n",
    "            rowUpperLeader = rowUpper[j]\n",
    "            leftUpper = b[i]\n",
    "            rowLower = A[i+1, :]\n",
    "            rowLowerLeader = rowLower[j]\n",
    "            leftLower = b[i+1]\n",
    "\n",
    "            if rowLowerLeader==0:\n",
    "                pass\n",
    "            elif rowUpperLeader==0 and rowLowerLeader!=0:\n",
    "                # swap rows\n",
    "                A[[i, i+1]] = A[[i+1, i]]\n",
    "                b[[i, i+1]] = b[[i+1, i]]\n",
    "                i=j-1  # redo column\n",
    "                \n",
    "            elif rowUpperLeader!=0 and rowLowerLeader!=0:\n",
    "                lcm = np.lcm(rowUpperLeader, rowLowerLeader)\n",
    "                rowLowerNew = (lcm/rowLowerLeader)*rowLower - (lcm/rowUpperLeader)*rowUpper\n",
    "                leftLowerNew = (lcm/rowLowerLeader)*leftLower - (lcm/rowUpperLeader)*leftUpper\n",
    "                \n",
    "                A[i+1, :] = rowLowerNew%modulus\n",
    "                b[i+1] = leftLowerNew%modulus\n",
    "                \n",
    "            i+=1\n",
    "\n",
    "    return A, b\n",
    "\n",
    "\n",
    "\n",
    "    \n",
    "def gaussianEliminationBackward(A, b, modulus):\n",
    "    (m, n) = A.shape\n",
    "    x = np.zeros(m)\n",
    "    \n",
    "    for i in range(n-1, -1, -1):\n",
    "        equLeft = A[i, :]\n",
    "        equLeftCoef = equLeft[i]\n",
    "        equRight = b[i]\n",
    "        equRightCoef = equRight - np.dot(x, equLeft)\n",
    "                    \n",
    "        solution, mx = solve_linear_congruence(equLeftCoef, equRightCoef, modulus)\n",
    "        x[i] = solution\n",
    "    \n",
    "    return x\n",
    "\n",
    "# for debug\n",
    "#print(A[:n])\n",
    "A_new, b_new = gaussianEliminationForward(A, b, p)\n",
    "#print(A_new)\n",
    "#print()\n",
    "#print(b[:n].astype(int))\n",
    "#print(b_new.astype(int))\n",
    "#print()\n",
    "#print(scipy.linalg.solve(A[:m], b[:m]))\n",
    "#print(scipy.linalg.solve(A_new, b_new))"
   ]
  },
  {
   "cell_type": "code",
   "execution_count": 8,
   "metadata": {},
   "outputs": [
    {
     "name": "stdout",
     "output_type": "stream",
     "text": [
      "Guess: [10 13  9 11  3 10 13  9 11  3 10] \t Right Solution: [10 13  9 11  3 10 13  9 11  3 10]\n"
     ]
    }
   ],
   "source": [
    "try:\n",
    "    A_new, b_new = gaussianEliminationForward(A, b, p)\n",
    "    x = gaussianEliminationBackward(A_new%p, b_new%p, p)\n",
    "    print(\"Guess:\", x.astype(int)%p, \"\\t\", \"Right Solution:\", s)\n",
    "except ValueError:  # occurs by linear dependency in the matrix subsetA\n",
    "    print(\"linear dependency\")"
   ]
  },
  {
   "cell_type": "markdown",
   "metadata": {},
   "source": [
    "sometimes I got wrong solution because of integer overflow. Particularly with big p"
   ]
  },
  {
   "cell_type": "code",
   "execution_count": null,
   "metadata": {},
   "outputs": [],
   "source": []
  }
 ],
 "metadata": {
  "kernelspec": {
   "display_name": "Python 3",
   "language": "python",
   "name": "python3"
  },
  "language_info": {
   "codemirror_mode": {
    "name": "ipython",
    "version": 3
   },
   "file_extension": ".py",
   "mimetype": "text/x-python",
   "name": "python",
   "nbconvert_exporter": "python",
   "pygments_lexer": "ipython3",
   "version": "3.8.12"
  }
 },
 "nbformat": 4,
 "nbformat_minor": 4
}
