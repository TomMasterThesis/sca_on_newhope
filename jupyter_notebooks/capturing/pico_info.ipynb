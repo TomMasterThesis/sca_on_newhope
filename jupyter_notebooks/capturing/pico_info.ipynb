{
 "cells": [
  {
   "cell_type": "code",
   "execution_count": 1,
   "metadata": {},
   "outputs": [
    {
     "name": "stdout",
     "output_type": "stream",
     "text": [
      "Device info: UnitInfo(driver=<picosdk.ps2000.Ps2000lib object at 0x7f66ccb186d0>, variant=b'2205A', serial=b'EY451/364')\n"
     ]
    }
   ],
   "source": [
    "from picosdk.ps2000 import ps2000\n",
    "\n",
    "with ps2000.open_unit() as device:\n",
    "    print('Device info: {}'.format(device.info))"
   ]
  },
  {
   "cell_type": "code",
   "execution_count": null,
   "metadata": {},
   "outputs": [],
   "source": []
  }
 ],
 "metadata": {
  "kernelspec": {
   "display_name": "Python 3",
   "language": "python",
   "name": "python3"
  },
  "language_info": {
   "codemirror_mode": {
    "name": "ipython",
    "version": 3
   },
   "file_extension": ".py",
   "mimetype": "text/x-python",
   "name": "python",
   "nbconvert_exporter": "python",
   "pygments_lexer": "ipython3",
   "version": "3.8.5"
  }
 },
 "nbformat": 4,
 "nbformat_minor": 4
}
