{
 "cells": [
  {
   "cell_type": "markdown",
   "metadata": {},
   "source": [
    "## import libs"
   ]
  },
  {
   "cell_type": "code",
   "execution_count": 1,
   "metadata": {},
   "outputs": [],
   "source": [
    "import ctypes\n",
    "\n",
    "import numpy as np\n",
    "import matplotlib.pyplot as plt\n",
    "\n",
    "from picosdk.ps2000 import ps2000 as ps\n",
    "from picosdk.functions import adc2mV, assert_pico2000_ok"
   ]
  },
  {
   "cell_type": "code",
   "execution_count": 2,
   "metadata": {},
   "outputs": [],
   "source": [
    "from ctypes import byref, c_byte, c_int16, c_int32, sizeof\n",
    "from time import sleep\n",
    "\n",
    "from picosdk.ps2000 import ps2000\n",
    "from picosdk.functions import assert_pico2000_ok, adc2mV\n",
    "from picosdk.PicoDeviceEnums import picoEnum"
   ]
  },
  {
   "cell_type": "markdown",
   "metadata": {},
   "source": [
    "## connect and setup"
   ]
  },
  {
   "cell_type": "code",
   "execution_count": 3,
   "metadata": {},
   "outputs": [],
   "source": [
    "SAMPLES = 8_000\n",
    "OVERSAMPLING = 1\n",
    "\n",
    "wantedTimeInterval = 25_000"
   ]
  },
  {
   "cell_type": "code",
   "execution_count": 4,
   "metadata": {},
   "outputs": [],
   "source": [
    "# Create status ready for use\n",
    "status = {}\n",
    "\n",
    "# Open 2000 series PicoScope\n",
    "# Returns handle to chandle for use in future API functions\n",
    "status[\"openUnit\"] = ps.ps2000_open_unit()\n",
    "assert_pico2000_ok(status[\"openUnit\"])\n",
    "\n",
    "# Create chandle for use\n",
    "chandle = ctypes.c_int16(status[\"openUnit\"])"
   ]
  },
  {
   "cell_type": "code",
   "execution_count": 5,
   "metadata": {},
   "outputs": [],
   "source": [
    "# Set up channel A\n",
    "# handle\n",
    "# channel\n",
    "# enabled\n",
    "# coupling type\n",
    "# voltage range\n",
    "# analogue offset = 0 V\n",
    "\n",
    "voltRangeA = ps.PS2000_VOLTAGE_RANGE['PS2000_100MV']\n",
    "status[\"setChA\"] = ps.ps2000_set_channel(\n",
    "        chandle,\n",
    "        picoEnum.PICO_CHANNEL['PICO_CHANNEL_A'],\n",
    "        True,\n",
    "        picoEnum.PICO_COUPLING['PICO_AC'],\n",
    "        voltRangeA,\n",
    "    )\n",
    "\n",
    "assert_pico2000_ok(status[\"setChA\"])"
   ]
  },
  {
   "cell_type": "code",
   "execution_count": 6,
   "metadata": {},
   "outputs": [],
   "source": [
    "# Set up channel B\n",
    "# handle\n",
    "# channel\n",
    "# enabled\n",
    "# coupling type\n",
    "# voltage range\n",
    "# analogue offset = 0 V\n",
    "\n",
    "voltRangeB = ps.PS2000_VOLTAGE_RANGE['PS2000_5V']\n",
    "status[\"setChB\"] = ps.ps2000_set_channel(\n",
    "        chandle,\n",
    "        picoEnum.PICO_CHANNEL['PICO_CHANNEL_B'],\n",
    "        True,\n",
    "        picoEnum.PICO_COUPLING['PICO_DC'],\n",
    "        voltRangeB,\n",
    "    )\n",
    "\n",
    "assert_pico2000_ok(status[\"setChB\"])"
   ]
  },
  {
   "cell_type": "code",
   "execution_count": 7,
   "metadata": {},
   "outputs": [],
   "source": [
    "# Set up single trigger\n",
    "# handle\n",
    "# source\n",
    "# threshold in ADC counts (max adc count 32767)  # evaluated values in bufferB\n",
    "# direction\n",
    "# delay = 0 s\n",
    "# auto Trigger = 1000 ms\n",
    "status[\"trigger\"] = ps.ps2000_set_trigger(chandle, \n",
    "                                          picoEnum.PICO_CHANNEL['PICO_CHANNEL_B'], \n",
    "                                          10000, \n",
    "                                          picoEnum.PICO_THRESHOLD_DIRECTION['PICO_RISING'], \n",
    "                                          0, \n",
    "                                          5000)\n",
    "assert_pico2000_ok(status[\"trigger\"])"
   ]
  },
  {
   "cell_type": "markdown",
   "metadata": {},
   "source": [
    "## timebase information"
   ]
  },
  {
   "cell_type": "code",
   "execution_count": 8,
   "metadata": {},
   "outputs": [
    {
     "data": {
      "text/plain": [
       "(12, 20480, c_int(40960))"
      ]
     },
     "execution_count": 8,
     "metadata": {},
     "output_type": "execute_result"
    }
   ],
   "source": [
    "def get_timebase(chandle, wantedTimeInterval):\n",
    "    currentTimebase = 1\n",
    "\n",
    "    oldTimeInterval = None\n",
    "    timeInterval = c_int32(0)\n",
    "    timeUnits = c_int16()\n",
    "    maxSamples = c_int32()\n",
    "\n",
    "    # handle\n",
    "    # timebase\n",
    "    # no_of_samples = maxSamples\n",
    "    # pointer to time_interval = ctypes.byref(timeInterval)\n",
    "    # pointer to time_units = ctypes.byref(timeUnits)\n",
    "    # oversample = 1 = oversample\n",
    "    # pointer to max_samples = ctypes.byref(maxSamplesReturn)\n",
    "    while ps.ps2000_get_timebase(\n",
    "                chandle,\n",
    "                currentTimebase,\n",
    "                2000,\n",
    "                byref(timeInterval),\n",
    "                byref(timeUnits),\n",
    "                1,\n",
    "                byref(maxSamples)) \\\n",
    "            == 0  \\\n",
    "                or timeInterval.value < wantedTimeInterval:\n",
    "\n",
    "        currentTimebase += 1\n",
    "        oldTimeInterval = timeInterval.value\n",
    "\n",
    "        if currentTimebase.bit_length() > sizeof(c_int16) * 8:\n",
    "            raise Exception('No appropriate timebase was identifiable')\n",
    "\n",
    "    return currentTimebase - 1, oldTimeInterval, timeInterval\n",
    "\n",
    "get_timebase(chandle, wantedTimeInterval)"
   ]
  },
  {
   "cell_type": "markdown",
   "metadata": {},
   "source": [
    "## capture"
   ]
  },
  {
   "cell_type": "code",
   "execution_count": 9,
   "metadata": {},
   "outputs": [],
   "source": [
    "timebase_a, interval, timeInterval = get_timebase(chandle, wantedTimeInterval)\n",
    "\n",
    "collection_time = c_int32()\n",
    "\n",
    "# Run block capture\n",
    "# handle\n",
    "# no_of_samples\n",
    "# timebase\n",
    "# oversample\n",
    "# pointer to time_indisposed_ms = ctypes.byref(timeIndisposedms)\n",
    "res = ps.ps2000_run_block(\n",
    "    chandle,\n",
    "    SAMPLES,\n",
    "    timebase_a,\n",
    "    OVERSAMPLING,\n",
    "    byref(collection_time)\n",
    ")\n",
    "assert_pico2000_ok(res)\n",
    "\n",
    "while ps.ps2000_ready(chandle) == 0:\n",
    "    sleep(0.1)\n",
    "\n",
    "times = (c_int32 * SAMPLES)()\n",
    "\n",
    "bufferA = (c_int16 * SAMPLES)()\n",
    "bufferB = (c_int16 * SAMPLES)()\n",
    "\n",
    "overflow = c_byte(0)\n",
    "\n",
    "status[\"timesValues\"] = ps.ps2000_get_times_and_values(\n",
    "    chandle,\n",
    "    byref(times),\n",
    "    byref(bufferA),\n",
    "    byref(bufferB),\n",
    "    None,\n",
    "    None,\n",
    "    byref(overflow),\n",
    "    2,\n",
    "    SAMPLES,\n",
    ")\n",
    "assert_pico2000_ok(status[\"timesValues\"])\n",
    "\n",
    "channel_a_overflow = (overflow.value & 0b0000_0001) != 0"
   ]
  },
  {
   "cell_type": "markdown",
   "metadata": {},
   "source": [
    "## visualize"
   ]
  },
  {
   "cell_type": "code",
   "execution_count": 10,
   "metadata": {},
   "outputs": [],
   "source": [
    "# find maximum ADC count value\n",
    "maxADC = ctypes.c_int16(32767)\n",
    "\n",
    "# convert ADC counts data to mV\n",
    "adc2mVChA =  adc2mV(bufferA, voltRangeA, maxADC)\n",
    "adc2mVChB =  adc2mV(bufferB, voltRangeB, maxADC)\n",
    "\n",
    "# Create time data\n",
    "time = np.linspace(0, (SAMPLES) * timeInterval.value, SAMPLES)/1_000_000"
   ]
  },
  {
   "cell_type": "markdown",
   "metadata": {},
   "source": [
    "#### channel A"
   ]
  },
  {
   "cell_type": "code",
   "execution_count": 11,
   "metadata": {},
   "outputs": [
    {
     "data": {
      "image/png": "[encoded data removed]",
      "text/plain": [
       "<Figure size 432x288 with 1 Axes>"
      ]
     },
     "metadata": {
      "needs_background": "light"
     },
     "output_type": "display_data"
    }
   ],
   "source": [
    "# plot data from channel A and B\n",
    "plt.plot(time, adc2mVChA[:])\n",
    "plt.xlabel('Time (ms)')\n",
    "plt.ylabel('Voltage (mV)')\n",
    "if channel_a_overflow:\n",
    "    plt.text(0.01, 0.01, 'Overflow present', color='red')\n",
    "plt.show()"
   ]
  },
  {
   "cell_type": "markdown",
   "metadata": {},
   "source": [
    "#### channel B"
   ]
  },
  {
   "cell_type": "code",
   "execution_count": 12,
   "metadata": {},
   "outputs": [
    {
     "data": {
      "image/png": "[encoded data removed]",
      "text/plain": [
       "<Figure size 432x288 with 1 Axes>"
      ]
     },
     "metadata": {
      "needs_background": "light"
     },
     "output_type": "display_data"
    }
   ],
   "source": [
    "# plot data from channel A and B\n",
    "plt.plot(time, adc2mVChB[:], color='orange')\n",
    "plt.xlabel('Time (ms)')\n",
    "plt.ylabel('Voltage (mV)')\n",
    "if channel_a_overflow:\n",
    "    plt.text(0.01, 0.01, 'Overflow present', color='red')\n",
    "plt.show()"
   ]
  },
  {
   "cell_type": "markdown",
   "metadata": {},
   "source": [
    "## capture multiple"
   ]
  },
  {
   "cell_type": "code",
   "execution_count": 13,
   "metadata": {},
   "outputs": [
    {
     "data": {
      "text/plain": [
       "(<__main__.c_short_Array_8000 at 0x7f24bf246e40>,\n",
       " <__main__.c_short_Array_8000 at 0x7f24bf246f40>,\n",
       " False)"
      ]
     },
     "execution_count": 13,
     "metadata": {},
     "output_type": "execute_result"
    }
   ],
   "source": [
    "# define function\n",
    "timebase_a, interval, timeInterval = get_timebase(chandle, wantedTimeInterval)\n",
    "\n",
    "def captureBlock(timebase_a, interval, timeInterval):\n",
    "\n",
    "    collection_time = c_int32()\n",
    "\n",
    "    # Run block capture\n",
    "    # handle\n",
    "    # no_of_samples\n",
    "    # timebase\n",
    "    # oversample\n",
    "    # pointer to time_indisposed_ms = ctypes.byref(timeIndisposedms)\n",
    "    res = ps.ps2000_run_block(\n",
    "        chandle,\n",
    "        SAMPLES,\n",
    "        timebase_a,\n",
    "        OVERSAMPLING,\n",
    "        byref(collection_time)\n",
    "    )\n",
    "    assert_pico2000_ok(res)\n",
    "\n",
    "    while ps.ps2000_ready(chandle) == 0:\n",
    "        sleep(0.1)\n",
    "\n",
    "    times = (c_int32 * SAMPLES)()\n",
    "\n",
    "    bufferA = (c_int16 * SAMPLES)()\n",
    "    bufferB = (c_int16 * SAMPLES)()\n",
    "\n",
    "    overflow = c_byte(0)\n",
    "\n",
    "    res = ps.ps2000_get_times_and_values(\n",
    "        chandle,\n",
    "        byref(times),\n",
    "        byref(bufferA),\n",
    "        byref(bufferB),\n",
    "        None,\n",
    "        None,\n",
    "        byref(overflow),\n",
    "        2,\n",
    "        SAMPLES,\n",
    "    )\n",
    "    assert_pico2000_ok(res)\n",
    "\n",
    "    channel_a_overflow = (overflow.value & 0b0000_0001) != 0\n",
    "    \n",
    "    return bufferA, bufferB, channel_a_overflow\n",
    "\n",
    "captureBlock(timebase_a, interval, timeInterval)"
   ]
  },
  {
   "cell_type": "code",
   "execution_count": 18,
   "metadata": {},
   "outputs": [
    {
     "name": "stdout",
     "output_type": "stream",
     "text": [
      "[30.166, 26.682, 12.207, 22.648, 33.072, 38.294, 47.277, 49.596, 58.295, 52.204]\n"
     ]
    }
   ],
   "source": [
    "# run multiple and average the trace to remove noise\n",
    "\n",
    "avgTrace = None\n",
    "\n",
    "loops = 1000\n",
    "for i in range(loops):\n",
    "    bufferA, bufferB, channel_a_overflow = captureBlock(timebase_a, interval, timeInterval)\n",
    "    \n",
    "    trace = [bufferA[i] for i in range(len(bufferA)) if bufferB[i]>10_000]  # 10,000 adc count as threshold\n",
    "    \n",
    "    if avgTrace == None:\n",
    "        avgTrace = trace\n",
    "    else:\n",
    "        lastElt = min(len(avgTrace), len(trace))\n",
    "        avgTrace = [avgTrace[i] + trace[i] for i in range(lastElt)]\n",
    "\n",
    "avgTrace = [elt/loops for elt in avgTrace]\n",
    "print(avgTrace[:10])"
   ]
  },
  {
   "cell_type": "code",
   "execution_count": 19,
   "metadata": {},
   "outputs": [],
   "source": [
    "# find maximum ADC count value\n",
    "maxADC = ctypes.c_int16(32767)\n",
    "\n",
    "# convert ADC counts data to mV\n",
    "adc2mVtrace =  adc2mV(avgTrace, voltRangeA, maxADC)\n",
    "\n",
    "# Create time data\n",
    "time = np.linspace(0, (len(adc2mVtrace)) * timeInterval.value, len(adc2mVtrace))/1_000_000"
   ]
  },
  {
   "cell_type": "code",
   "execution_count": 20,
   "metadata": {},
   "outputs": [
    {
     "data": {
      "image/png": "[encoded data removed]",
      "text/plain": [
       "<Figure size 432x288 with 1 Axes>"
      ]
     },
     "metadata": {
      "needs_background": "light"
     },
     "output_type": "display_data"
    }
   ],
   "source": [
    "# plot data\n",
    "plt.plot(time, adc2mVtrace[:])\n",
    "plt.xlabel('Time (ms)')\n",
    "plt.ylabel('Voltage (mV)')\n",
    "\n",
    "plt.show()"
   ]
  },
  {
   "cell_type": "code",
   "execution_count": 16,
   "metadata": {},
   "outputs": [
    {
     "data": {
      "image/png": "[encoded data removed]",
      "text/plain": [
       "<Figure size 432x288 with 1 Axes>"
      ]
     },
     "metadata": {
      "needs_background": "light"
     },
     "output_type": "display_data"
    }
   ],
   "source": [
    "# plot data\n",
    "plt.plot(time, adc2mVtrace[:])\n",
    "plt.xlabel('Time (ms)')\n",
    "plt.ylabel('Voltage (mV)')\n",
    "\n",
    "plt.show()"
   ]
  },
  {
   "cell_type": "markdown",
   "metadata": {},
   "source": [
    "## disconnect and print status"
   ]
  },
  {
   "cell_type": "code",
   "execution_count": 17,
   "metadata": {},
   "outputs": [
    {
     "ename": "NameError",
     "evalue": "name 'wait' is not defined",
     "output_type": "error",
     "traceback": [
      "\u001b[0;31m---------------------------------------------------------------------------\u001b[0m",
      "\u001b[0;31mNameError\u001b[0m                                 Traceback (most recent call last)",
      "\u001b[0;32m<ipython-input-17-52f19130b9bd>\u001b[0m in \u001b[0;36m<module>\u001b[0;34m\u001b[0m\n\u001b[0;32m----> 1\u001b[0;31m \u001b[0mwait\u001b[0m\u001b[0;34m\u001b[0m\u001b[0;34m\u001b[0m\u001b[0m\n\u001b[0m\u001b[1;32m      2\u001b[0m \u001b[0;31m# Stop the scope\u001b[0m\u001b[0;34m\u001b[0m\u001b[0;34m\u001b[0m\u001b[0;34m\u001b[0m\u001b[0m\n\u001b[1;32m      3\u001b[0m \u001b[0;31m# handle = chandle\u001b[0m\u001b[0;34m\u001b[0m\u001b[0;34m\u001b[0m\u001b[0;34m\u001b[0m\u001b[0m\n\u001b[1;32m      4\u001b[0m \u001b[0mstatus\u001b[0m\u001b[0;34m[\u001b[0m\u001b[0;34m\"stop\"\u001b[0m\u001b[0;34m]\u001b[0m \u001b[0;34m=\u001b[0m \u001b[0mps\u001b[0m\u001b[0;34m.\u001b[0m\u001b[0mps2000_stop\u001b[0m\u001b[0;34m(\u001b[0m\u001b[0mchandle\u001b[0m\u001b[0;34m)\u001b[0m\u001b[0;34m\u001b[0m\u001b[0;34m\u001b[0m\u001b[0m\n\u001b[1;32m      5\u001b[0m \u001b[0massert_pico2000_ok\u001b[0m\u001b[0;34m(\u001b[0m\u001b[0mstatus\u001b[0m\u001b[0;34m[\u001b[0m\u001b[0;34m\"stop\"\u001b[0m\u001b[0;34m]\u001b[0m\u001b[0;34m)\u001b[0m\u001b[0;34m\u001b[0m\u001b[0;34m\u001b[0m\u001b[0m\n",
      "\u001b[0;31mNameError\u001b[0m: name 'wait' is not defined"
     ]
    }
   ],
   "source": [
    "wait\n",
    "# Stop the scope\n",
    "# handle = chandle\n",
    "status[\"stop\"] = ps.ps2000_stop(chandle)\n",
    "assert_pico2000_ok(status[\"stop\"])\n",
    "\n",
    "# Close unitDisconnect the scope\n",
    "# handle = chandle\n",
    "status[\"close\"] = ps.ps2000_close_unit(chandle)\n",
    "assert_pico2000_ok(status[\"close\"])\n",
    "\n",
    "# display status returns\n",
    "print(status)"
   ]
  },
  {
   "cell_type": "code",
   "execution_count": null,
   "metadata": {},
   "outputs": [],
   "source": []
  }
 ],
 "metadata": {
  "kernelspec": {
   "display_name": "Python 3",
   "language": "python",
   "name": "python3"
  },
  "language_info": {
   "codemirror_mode": {
    "name": "ipython",
    "version": 3
   },
   "file_extension": ".py",
   "mimetype": "text/x-python",
   "name": "python",
   "nbconvert_exporter": "python",
   "pygments_lexer": "ipython3",
   "version": "3.8.5"
  }
 },
 "nbformat": 4,
 "nbformat_minor": 4
}
