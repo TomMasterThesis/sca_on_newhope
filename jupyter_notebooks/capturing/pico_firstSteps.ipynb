{
 "cells": [
  {
   "cell_type": "code",
   "execution_count": 1,
   "metadata": {},
   "outputs": [
    {
     "name": "stdout",
     "output_type": "stream",
     "text": [
      "Help on package picosdk:\n",
      "\n",
      "NAME\n",
      "    picosdk\n",
      "\n",
      "DESCRIPTION\n",
      "    # Copyright (C) 2018 Pico Technology Ltd. See LICENSE file for terms.\n",
      "    #\n",
      "\n",
      "PACKAGE CONTENTS\n",
      "    PicoDeviceEnums\n",
      "    PicoDeviceStructs\n",
      "    constants\n",
      "    ctypes_wrapper\n",
      "    device\n",
      "    discover\n",
      "    errors\n",
      "    functions\n",
      "    library\n",
      "    picohrdl\n",
      "    pl1000\n",
      "    ps2000\n",
      "    ps2000a\n",
      "    ps3000\n",
      "    ps3000a\n",
      "    ps4000\n",
      "    ps4000a\n",
      "    ps5000\n",
      "    ps5000a\n",
      "    ps6000\n",
      "    ps6000a\n",
      "    usbDrDaq\n",
      "    usbPT104\n",
      "    usbtc08\n",
      "\n",
      "FILE\n",
      "    /home/sca-user/anaconda3/lib/python3.8/site-packages/picosdk/__init__.py\n",
      "\n",
      "\n"
     ]
    }
   ],
   "source": [
    "import picosdk\n",
    "\n",
    "help(picosdk)"
   ]
  },
  {
   "cell_type": "code",
   "execution_count": 2,
   "metadata": {},
   "outputs": [
    {
     "ename": "AttributeError",
     "evalue": "module 'picosdk' has no attribute 'discover'",
     "output_type": "error",
     "traceback": [
      "\u001b[0;31m---------------------------------------------------------------------------\u001b[0m",
      "\u001b[0;31mAttributeError\u001b[0m                            Traceback (most recent call last)",
      "\u001b[0;32m<ipython-input-2-691e059a9d2a>\u001b[0m in \u001b[0;36m<module>\u001b[0;34m\u001b[0m\n\u001b[0;32m----> 1\u001b[0;31m \u001b[0mpicosdk\u001b[0m\u001b[0;34m.\u001b[0m\u001b[0mdiscover\u001b[0m\u001b[0;34m.\u001b[0m\u001b[0mdrivers\u001b[0m \u001b[0;34m=\u001b[0m \u001b[0;34m[\u001b[0m\u001b[0mpicosdk\u001b[0m\u001b[0;34m.\u001b[0m\u001b[0mdiscover\u001b[0m\u001b[0;34m.\u001b[0m\u001b[0mdrivers\u001b[0m\u001b[0;34m[\u001b[0m\u001b[0;36m6\u001b[0m\u001b[0;34m]\u001b[0m\u001b[0;34m]\u001b[0m  \u001b[0;31m# fix\u001b[0m\u001b[0;34m\u001b[0m\u001b[0;34m\u001b[0m\u001b[0m\n\u001b[0m\u001b[1;32m      2\u001b[0m \u001b[0mpicosdk\u001b[0m\u001b[0;34m.\u001b[0m\u001b[0mdiscover\u001b[0m\u001b[0;34m.\u001b[0m\u001b[0mdrivers\u001b[0m\u001b[0;34m\u001b[0m\u001b[0;34m\u001b[0m\u001b[0m\n",
      "\u001b[0;31mAttributeError\u001b[0m: module 'picosdk' has no attribute 'discover'"
     ]
    }
   ],
   "source": [
    "picosdk.discover.drivers = [picosdk.discover.drivers[6]]  # fix\n",
    "picosdk.discover.drivers "
   ]
  },
  {
   "cell_type": "code",
   "execution_count": null,
   "metadata": {},
   "outputs": [],
   "source": [
    "scopes = find_all_units()\n",
    "\n",
    "for scope in scopes:\n",
    "    print(scope.info)\n",
    "    scope.close()"
   ]
  },
  {
   "cell_type": "code",
   "execution_count": null,
   "metadata": {},
   "outputs": [],
   "source": []
  }
 ],
 "metadata": {
  "kernelspec": {
   "display_name": "Python 3",
   "language": "python",
   "name": "python3"
  },
  "language_info": {
   "codemirror_mode": {
    "name": "ipython",
    "version": 3
   },
   "file_extension": ".py",
   "mimetype": "text/x-python",
   "name": "python",
   "nbconvert_exporter": "python",
   "pygments_lexer": "ipython3",
   "version": "3.8.5"
  }
 },
 "nbformat": 4,
 "nbformat_minor": 4
}
